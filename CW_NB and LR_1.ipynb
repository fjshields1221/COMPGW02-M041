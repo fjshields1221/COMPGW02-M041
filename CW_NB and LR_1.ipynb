{
 "cells": [
  {
   "cell_type": "code",
   "execution_count": 1,
   "metadata": {
    "collapsed": false
   },
   "outputs": [],
   "source": [
    "import math\n",
    "import numpy as np\n",
    "import os\n",
    "import pandas as pd\n",
    "import matplotlib.pyplot as plt\n",
    "import collections as col\n",
    "import re\n",
    "import random\n",
    "import sklearn\n",
    "from sklearn.preprocessing import OneHotEncoder\n",
    "from sklearn.preprocessing import LabelEncoder\n",
    "from sklearn.naive_bayes import GaussianNB\n",
    "from sklearn.naive_bayes import MultinomialNB\n",
    "from sklearn.naive_bayes import BernoulliNB\n",
    "from sklearn.svm import LinearSVC\n",
    "from sklearn import linear_model\n"
   ]
  },
  {
   "cell_type": "code",
   "execution_count": 2,
   "metadata": {
    "collapsed": true
   },
   "outputs": [],
   "source": [
    "def load_data(train='Yes', test='No', validation='No'):\n",
    "\t\"\"\"Loads and returns datasets as required\n",
    "\t   Return empty lst for if 'No'\n",
    "\t\"\"\"\n",
    "\tif train=='Yes':\n",
    "\t\tdf_train = pd.read_csv('dataset/train.csv', sep=',')\n",
    "\telse:\n",
    "\t\tdf_train = []\n",
    "\n",
    "\tif test=='Yes':\n",
    "\t\tdf_test = pd.read_csv('dataset/test.csv', sep=',')\n",
    "\telse:\n",
    "\t\tdf_test = []\n",
    "\n",
    "\tif validation=='Yes':\n",
    "\t\tdf_validation = pd.read_csv('dataset/validation.csv', sep=',')\n",
    "\telse:\n",
    "\t\tdf_validation = []\n",
    "\t\n",
    "\tprint('Data loaded', len(df_train), len(df_test), len(df_validation))\n",
    "\treturn df_train, df_test, df_validation\n",
    "\n",
    "def label_encode_train(df_train):\n",
    "    pass\n",
    "\n",
    "def label_decode_test(df_test, le_dict):\n",
    "    pass"
   ]
  },
  {
   "cell_type": "code",
   "execution_count": 3,
   "metadata": {
    "collapsed": false
   },
   "outputs": [
    {
     "name": "stdout",
     "output_type": "stream",
     "text": [
      "Data loaded 2697738 0 299749\n"
     ]
    }
   ],
   "source": [
    "df_train, df_test, df_validation= load_data('Yes', 'No', 'Yes')"
   ]
  },
  {
   "cell_type": "code",
   "execution_count": 4,
   "metadata": {
    "collapsed": false
   },
   "outputs": [
    {
     "name": "stdout",
     "output_type": "stream",
     "text": [
      "Budget 25000000\n",
      "Val sum bidprice 81655340\n",
      "Val sum payprice 24045218\n"
     ]
    }
   ],
   "source": [
    "print('Budget', 25000000)\n",
    "print('Val sum bidprice', sum(df_validation['bidprice'].values))\n",
    "print('Val sum payprice', sum(df_validation['payprice'].values)) #price we use"
   ]
  },
  {
   "cell_type": "code",
   "execution_count": 5,
   "metadata": {
    "collapsed": false
   },
   "outputs": [],
   "source": [
    "# Feature engineering\n",
    "def label_encoder(df_column_nint, column_le= None): \n",
    "    if column_le== None:\n",
    "        column_le = LabelEncoder()\n",
    "        column_le.fit(df_column_nint.unique())\n",
    "    if column_le!= None:\n",
    "        pass\n",
    "    df_column_int = column_le.transform(df_column_nint)\n",
    "    return pd.DataFrame(df_column_int), column_le\n",
    "\n",
    "df_int = pd.DataFrame()\n",
    "df_int = df_train\n",
    "\n",
    "# Y - Target\n",
    "array_y = df_int[['click']].as_matrix()\n",
    "array_y_r = np.reshape(array_y, (-1))\n",
    "\n",
    "# X - Features\n",
    "lst_int_features = ['weekday', 'hour', 'slotwidth', 'slotheight', 'advertiser', 'city'] \n",
    "lst_nint_features = ['adexchange', 'slotformat', 'slotvisibility', 'useragent']\n",
    "lst_nint_le_features = ['le_adexchange', 'le_slotformat', 'le_slotvisibility', 'le_useragent']\n",
    "\n",
    "le_adexchange, le_a1 = label_encoder(df_int['adexchange'])\n",
    "le_slotformat, le_s2 = label_encoder(df_int['slotformat'])\n",
    "le_slotvisibility, le_s3 = label_encoder(df_int['slotvisibility'])\n",
    "le_useragent, le_u4 = label_encoder(df_int['useragent'])\n",
    "\n",
    "df_int['le_adexchange']= le_adexchange\n",
    "df_int['le_slotformat']= le_slotformat\n",
    "df_int['le_slotvisibility']= le_slotvisibility\n",
    "df_int['le_useragent']= le_useragent\n",
    "\n",
    "lst_x_1 = ['advertiser']\n",
    "lst_x_2 = lst_int_features\n",
    "lst_x_3 = [lst_int_features[0], lst_int_features[1], lst_nint_le_features[0]]\n",
    "lst_x_all = lst_int_features+ lst_nint_le_features\n",
    "\n",
    "array_x_1 = df_int[lst_x_1].as_matrix()\n",
    "array_x_2 = df_int[lst_x_2].as_matrix()\n",
    "array_x_3 = df_int[lst_x_3].as_matrix()\n",
    "array_x_all = df_int[lst_x_all].as_matrix()"
   ]
  },
  {
   "cell_type": "code",
   "execution_count": 6,
   "metadata": {
    "collapsed": false
   },
   "outputs": [
    {
     "data": {
      "text/plain": [
       "Index(['click', 'weekday', 'hour', 'bidid', 'logtype', 'userid', 'useragent',\n",
       "       'IP', 'region', 'city', 'adexchange', 'domain', 'url', 'urlid',\n",
       "       'slotid', 'slotwidth', 'slotheight', 'slotvisibility', 'slotformat',\n",
       "       'slotprice', 'creative', 'bidprice', 'payprice', 'keypage',\n",
       "       'advertiser', 'usertag', 'le_adexchange', 'le_slotformat',\n",
       "       'le_slotvisibility', 'le_useragent'],\n",
       "      dtype='object')"
      ]
     },
     "execution_count": 6,
     "metadata": {},
     "output_type": "execute_result"
    }
   ],
   "source": [
    "df_int.columns"
   ]
  },
  {
   "cell_type": "code",
   "execution_count": 7,
   "metadata": {
    "collapsed": false
   },
   "outputs": [],
   "source": [
    "# Build model\n",
    "def Naive_Bayes(array_x, array_y):\n",
    "    NB_model = GaussianNB()\n",
    "    NB_model.fit(array_x, array_y)\n",
    "    return NB_model\n",
    "\n",
    "def Logistic_Regression(array_x, array_y):\n",
    "    LR_model = linear_model.LogisticRegression(penalty='l2')\n",
    "    LR_model.fit(array_x, array_y)\n",
    "    return LR_model\n",
    "\n",
    "def Logistic_Regression_Cu(array_x, array_y):\n",
    "    LR_model = linear_model.LogisticRegression(penalty='l2', class_weight='balanced')\n",
    "    LR_model.fit(array_x, array_y)\n",
    "    return LR_model_Cu\n",
    "\n",
    "# Build with on 'advertiser' from validation set\n",
    "#NB_model_1 = Naive_Bayes(array_x_1, array_y_r)\n",
    "#NB_model_2 = Naive_Bayes(array_x_2, array_y_r)\n",
    "#NB_model_3 = Naive_Bayes(array_x_3, array_y_r)\n",
    "NB_model_all = Naive_Bayes(array_x_all, array_y_r)\n",
    "\n",
    "#LR_model_1 = Logistic_Regression(array_x_1, array_y_r)\n",
    "#LR_model_2 = Logistic_Regression(array_x_2, array_y_r)\n",
    "#LR_model_3 = Logistic_Regression(array_x_3, array_y_r)\n",
    "#LR_model_all = Logistic_Regression(array_x_all, array_y_r)"
   ]
  },
  {
   "cell_type": "code",
   "execution_count": null,
   "metadata": {
    "collapsed": false
   },
   "outputs": [],
   "source": [
    "Linear_SVM_model = LinearSVC()\n",
    "Linear_SVM_model.fit(array_x_3, array_y_r)"
   ]
  },
  {
   "cell_type": "code",
   "execution_count": null,
   "metadata": {
    "collapsed": true
   },
   "outputs": [],
   "source": [
    "Linear_SVM_model"
   ]
  },
  {
   "cell_type": "code",
   "execution_count": 8,
   "metadata": {
    "collapsed": false
   },
   "outputs": [],
   "source": [
    "le_adexchange, _ = label_encoder(df_validation['adexchange'], le_a1)\n",
    "le_slotformat, _ = label_encoder(df_validation['slotformat'], le_s2)\n",
    "le_slotvisibility, _ = label_encoder(df_validation['slotvisibility'], le_s3)\n",
    "le_useragent, _ = label_encoder(df_validation['useragent'], le_u4)\n",
    "\n",
    "df_validation['le_adexchange']= le_adexchange\n",
    "df_validation['le_slotformat']= le_slotformat\n",
    "df_validation['le_slotvisibility']= le_slotvisibility\n",
    "df_validation['le_useragent']= le_useragent"
   ]
  },
  {
   "cell_type": "code",
   "execution_count": null,
   "metadata": {
    "collapsed": false
   },
   "outputs": [],
   "source": [
    "# Infer model\n",
    "#NB_model_1pCTR_v = NB_model_1.predict_proba(df_validation[lst_x_1].as_matrix())[:, 1]\n",
    "#NB_model_2pCTR_v = NB_model_2.predict_proba(df_validation[lst_x_2].as_matrix())[:, 1]\n",
    "#NB_model_3pCTR_v = NB_model_3.predict_proba(df_validation[lst_x_3].as_matrix())[:, 1]\n",
    "NB_model_allpCTR_v = NB_model_all.predict_proba(df_validation[lst_x_all].as_matrix())[:, 1]\n",
    "\n",
    "#LR_model_1pCTR_v = LR_model_1.predict_proba(df_validation[lst_x_1].as_matrix())[:, 1]\n",
    "#LR_model_2pCTR_v = LR_model_2.predict_proba(df_validation[lst_x_2].as_matrix())[:, 1]\n",
    "#LR_model_3pCTR_v = LR_model_3.predict_proba(df_validation[lst_x_3].as_matrix())[:, 1]\n",
    "#LR_model_allpCTR_v = LR_model_all.predict_proba(df_validation[lst_x_all].as_matrix())[:, 1]"
   ]
  },
  {
   "cell_type": "code",
   "execution_count": 10,
   "metadata": {
    "collapsed": false
   },
   "outputs": [
    {
     "name": "stdout",
     "output_type": "stream",
     "text": [
      "NB\n",
      "7.18484819496\n",
      "7.20790028342\n",
      "7.28965719827\n",
      "7.98823257973\n",
      "LR\n",
      "7.14291151019\n",
      "7.2301968942\n",
      "7.21577370925\n",
      "7.5022349516\n"
     ]
    }
   ],
   "source": [
    "# Evaluate model - CE\n",
    "def evaluate_model1(df_val, array_pCTR):\n",
    "    return -1/len(df_val) *sum((1- df_val['click'])* np.log(np.clip(array_pCTR, 1e-15 , 1)) +\\\n",
    "    (df_val['click'])* np.log(np.clip((1- array_pCTR), 1e-15 , 1)))\n",
    "\n",
    "def evaluate_model2(df_val, array_pCTR):\n",
    "    return -1/len(df_val) *sum((1- df_val['click'])* np.log(np.clip(array_pCTR, 1e-15 , 1)))\n",
    "\n",
    "def evaluate_model3(df_val, array_pCTR):\n",
    "    return -1/len(df_val) *sum(df_val['click']* np.log(np.clip((1- array_pCTR), 1e-15 , 1)))\n",
    "\n",
    "print('NB')\n",
    "print(evaluate_model1(df_validation, NB_model_1pCTR_v))\n",
    "print(evaluate_model1(df_validation, NB_model_2pCTR_v))\n",
    "print(evaluate_model1(df_validation, NB_model_3pCTR_v))\n",
    "print(evaluate_model1(df_validation, NB_model_allpCTR_v))\n",
    "print('LR')\n",
    "print(evaluate_model1(df_validation, LR_model_1pCTR_v))\n",
    "print(evaluate_model1(df_validation, LR_model_2pCTR_v))\n",
    "print(evaluate_model1(df_validation, LR_model_3pCTR_v))\n",
    "print(evaluate_model1(df_validation, LR_model_allpCTR_v))"
   ]
  },
  {
   "cell_type": "code",
   "execution_count": 67,
   "metadata": {
    "collapsed": false
   },
   "outputs": [
    {
     "name": "stdout",
     "output_type": "stream",
     "text": [
      "NB\n",
      "0.99924603585\n",
      "0.99924603585\n",
      "0.99924603585\n",
      "0.972640442504\n",
      "LR\n",
      "0.99924603585\n",
      "0.99924603585\n",
      "0.99924603585\n",
      "0.99924603585\n"
     ]
    }
   ],
   "source": [
    "#.score\n",
    "array_y = df_validation[['click']].as_matrix()\n",
    "array_y_r = np.reshape(array_y, (-1))\n",
    "\n",
    "print('NB')\n",
    "print(NB_model_1.score(df_validation[lst_x_1].as_matrix(), array_y_r))\n",
    "print(NB_model_2.score(df_validation[lst_x_2].as_matrix(), array_y_r))\n",
    "print(NB_model_3.score(df_validation[lst_x_3].as_matrix(), array_y_r))\n",
    "print(NB_model_all.score(df_validation[lst_x_all].as_matrix(), array_y_r))\n",
    "print('LR')\n",
    "print(LR_model_1.score(df_validation[lst_x_1].as_matrix(), array_y_r))\n",
    "print(LR_model_2.score(df_validation[lst_x_2].as_matrix(), array_y_r))\n",
    "print(LR_model_3.score(df_validation[lst_x_3].as_matrix(), array_y_r))\n",
    "print(LR_model_all.score(df_validation[lst_x_all].as_matrix(), array_y_r))"
   ]
  },
  {
   "cell_type": "code",
   "execution_count": 11,
   "metadata": {
    "collapsed": false
   },
   "outputs": [],
   "source": [
    "df_pCTRs= pd.DataFrame()\n",
    "df_pCTRs= df_validation\n",
    "df_pCTRs['NB_model_1pCTR_v']= NB_model_1pCTR_v\n",
    "df_pCTRs['NB_model_2pCTR_v']= NB_model_2pCTR_v\n",
    "df_pCTRs['NB_model_3pCTR_v']= NB_model_3pCTR_v\n",
    "df_pCTRs['NB_model_allpCTR_v']= NB_model_allpCTR_v\n",
    "df_pCTRs['LR_model_1pCTR_v']= LR_model_1pCTR_v\n",
    "df_pCTRs['LR_model_2pCTR_v']= LR_model_2pCTR_v\n",
    "df_pCTRs['LR_model_3pCTR_v']= LR_model_3pCTR_v\n",
    "df_pCTRs['LR_model_allpCTR_v']= LR_model_allpCTR_v"
   ]
  },
  {
   "cell_type": "code",
   "execution_count": 12,
   "metadata": {
    "collapsed": false
   },
   "outputs": [],
   "source": [
    "df_temp1= df_pCTRs[['bidid', 'click', 'NB_model_1pCTR_v']].sort_values('NB_model_1pCTR_v', ascending=False)\n",
    "df_temp2= df_pCTRs[['bidid', 'click', 'NB_model_2pCTR_v']].sort_values('NB_model_2pCTR_v', ascending=False)\n",
    "df_temp3= df_pCTRs[['bidid', 'click', 'NB_model_3pCTR_v']].sort_values('NB_model_3pCTR_v', ascending=False)\n",
    "df_temp4= df_pCTRs[['bidid', 'click', 'NB_model_allpCTR_v']].sort_values('NB_model_allpCTR_v', ascending=False)\n",
    "df_temp5= df_pCTRs[['bidid', 'click', 'LR_model_1pCTR_v']].sort_values('LR_model_1pCTR_v', ascending=False)\n",
    "df_temp6= df_pCTRs[['bidid', 'click', 'LR_model_2pCTR_v']].sort_values('LR_model_2pCTR_v', ascending=False)\n",
    "df_temp7= df_pCTRs[['bidid', 'click', 'LR_model_3pCTR_v']].sort_values('LR_model_3pCTR_v', ascending=False)\n",
    "df_temp8= df_pCTRs[['bidid', 'click', 'LR_model_allpCTR_v']].sort_values('LR_model_allpCTR_v', ascending=False)\n",
    "\n",
    "def count_clicks_order(df_pCTRs):\n",
    "    counter= 0\n",
    "    dic= {}\n",
    "    for i in range(len(df_pCTRs)):\n",
    "        if df_pCTRs[i:(i+1)]['click'].values== 1:\n",
    "            counter+= 1\n",
    "            dic[counter]= i\n",
    "            if counter== 226:\n",
    "                break\n",
    "    return dic, counter\n",
    "\n",
    "dic1= count_clicks_order(df_temp1)\n",
    "dic2= count_clicks_order(df_temp2)\n",
    "dic3= count_clicks_order(df_temp3)\n",
    "dic4= count_clicks_order(df_temp4)\n",
    "dic5= count_clicks_order(df_temp5)\n",
    "dic6= count_clicks_order(df_temp6)\n",
    "dic7= count_clicks_order(df_temp7)\n",
    "dic8= count_clicks_order(df_temp8)"
   ]
  },
  {
   "cell_type": "code",
   "execution_count": 37,
   "metadata": {
    "collapsed": false
   },
   "outputs": [],
   "source": [
    "x = []\n",
    "y = []\n",
    "for i, j in dic1[0].items():\n",
    "    x.append(i)\n",
    "    y.append(j)\n",
    "x1 = []\n",
    "y1 = []\n",
    "for i, j in dic2[0].items():\n",
    "    x1.append(i)\n",
    "    y1.append(j)\n",
    "x2 = []\n",
    "y2 = []\n",
    "for i, j in dic3[0].items():\n",
    "    x2.append(i)\n",
    "    y2.append(j) \n",
    "x3 = []\n",
    "y3 = []\n",
    "for i, j in dic4[0].items():\n",
    "    x3.append(i)\n",
    "    y3.append(j) \n",
    "x4 = []\n",
    "y4 = []\n",
    "for i, j in dic5[0].items():\n",
    "    x4.append(i)\n",
    "    y4.append(j) \n",
    "x6 = []\n",
    "y6 = []\n",
    "for i, j in dic7[0].items():\n",
    "    x6.append(i)\n",
    "    y6.append(j) \n",
    "x7 = []\n",
    "y7 = []\n",
    "for i, j in dic8[0].items():\n",
    "    x7.append(i)\n",
    "    y7.append(j) "
   ]
  },
  {
   "cell_type": "code",
   "execution_count": 40,
   "metadata": {
    "collapsed": false
   },
   "outputs": [
    {
     "data": {
      "image/png": "[encoded data removed]",
      "text/plain": [
       "<matplotlib.figure.Figure at 0x106a49390>"
      ]
     },
     "metadata": {},
     "output_type": "display_data"
    }
   ],
   "source": [
    "plt.plot(y, x, label=\"NB_model_1pCTR_v\")\n",
    "#plt.plot(y2, x2, label=\"NB_model_3pCTR_v\") \n",
    "plt.plot(y3, x3, label=\"NB_model_allpCTR_v\")\n",
    "\n",
    "plt.plot(y4, x4, label=\"LR_model_1pCTR_v\")\n",
    "#plt.plot(y6, x6, label=\"LR_model_3pCTR_v\")\n",
    "plt.plot(y7, x7, label=\"LR_model_allpCTR_v\")\n",
    "\n",
    "plt.legend(bbox_to_anchor=(1.05, 1), loc=2, borderaxespad=0.)\n",
    "plt.xlabel('Validation impressions ordered by pCTR/ model')\n",
    "plt.ylabel('Validation clicked impressions')\n",
    "plt.show()"
   ]
  },
  {
   "cell_type": "code",
   "execution_count": null,
   "metadata": {
    "collapsed": true
   },
   "outputs": [],
   "source": []
  }
 ],
 "metadata": {
  "anaconda-cloud": {},
  "kernelspec": {
   "display_name": "Python [conda root]",
   "language": "python",
   "name": "conda-root-py"
  },
  "language_info": {
   "codemirror_mode": {
    "name": "ipython",
    "version": 3
   },
   "file_extension": ".py",
   "mimetype": "text/x-python",
   "name": "python",
   "nbconvert_exporter": "python",
   "pygments_lexer": "ipython3",
   "version": "3.5.2"
  }
 },
 "nbformat": 4,
 "nbformat_minor": 1
}
