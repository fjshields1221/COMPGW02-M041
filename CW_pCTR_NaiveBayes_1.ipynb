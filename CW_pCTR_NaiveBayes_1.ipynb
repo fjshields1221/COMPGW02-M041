{
 "cells": [
  {
   "cell_type": "code",
   "execution_count": 1,
   "metadata": {
    "collapsed": true
   },
   "outputs": [],
   "source": [
    "import math\n",
    "import numpy as np\n",
    "import os\n",
    "import pandas as pd\n",
    "import matplotlib.pyplot as plt\n",
    "import collections as col\n",
    "import re\n",
    "import random\n",
    "import sklearn\n",
    "from sklearn.preprocessing import OneHotEncoder\n",
    "from sklearn.preprocessing import LabelEncoder\n",
    "from sklearn.naive_bayes import GaussianNB"
   ]
  },
  {
   "cell_type": "code",
   "execution_count": 2,
   "metadata": {
    "collapsed": true
   },
   "outputs": [],
   "source": [
    "\"\"\"Web ecomonics assignemnt 1\n",
    "   pCTR with Naive Bayes in SkLearn\n",
    "\"\"\"\n",
    "\n",
    "def load_data(train='Yes', test='No', validation='No'):\n",
    "\t\"\"\"Loads and returns datasets as required\n",
    "\t   Return empty lst for if 'No'\n",
    "\t\"\"\"\n",
    "\tif train=='Yes':\n",
    "\t\tdf_train = pd.read_csv('dataset/train.csv', sep=',')\n",
    "\telse:\n",
    "\t\tdf_train = []\n",
    "\n",
    "\tif test=='Yes':\n",
    "\t\tdf_test = pd.read_csv('dataset/test.csv', sep=',')\n",
    "\telse:\n",
    "\t\tdf_test = []\n",
    "\n",
    "\tif validation=='Yes':\n",
    "\t\tdf_validation = pd.read_csv('dataset/validation.csv', sep=',')\n",
    "\telse:\n",
    "\t\tdf_validation = []\n",
    "\tprint('Data loaded', len(df_train), len(df_test), len(df_validation))\n",
    "\treturn df_train, df_test, df_validation\n",
    "\n",
    "\n",
    "def le_non_integers(df_data, column_name= 'adexchange', le_old= None):\n",
    "\t\"\"\"Label encode column. Used as preprocessing non-integer columns  \n",
    "\t   Returns LE (req for new ecoding/decoing) and new column \n",
    "\t\"\"\"\n",
    "\tif le_old== None:\n",
    "\t\tle = LabelEncoder()\n",
    "\t\tle.fit(df_data[column_name].unique())\n",
    "\telse:\n",
    "\t\tle = le_old \n",
    "\tcolumn_le = le.transform(df_data[column_name])\n",
    "\t#print(np.unique(column_le))\n",
    "\t#print(column_le.shape)\n",
    "\treturn le, np.asarray(column_le)\n",
    "\n",
    "\n",
    "def build_NB_model(df_train):\n",
    "\t\"\"\"Format, label encode data and build NB model for specific columns \n",
    "\t   Return NB_model\n",
    "\t\"\"\"\n",
    "\t# y\n",
    "\tarray_y = df_train[['click']].as_matrix()\n",
    "\tarray_y = np.reshape(array_y, (-1, 1))\n",
    "\n",
    "\t# x (int features)\n",
    "\tarray_x_i = df_train[['weekday', 'hour', 'region', 'city', 'slotwidth', 'slotheight', 'advertiser']].as_matrix()\n",
    "\t# x ('non-int converted-to-int' features)\n",
    "\tadexchange_le, col_adexchange_le= le_non_integers(df_train, 'adexchange')\n",
    "\tslotformat_le, col_slotformat_le= le_non_integers(df_train, 'slotformat')\n",
    "\tslotvisibility_le, col_slotvisibility_le= le_non_integers(df_train, 'slotvisibility')\n",
    "\tuseragent_le, col_useragent_le= le_non_integers(df_train, 'useragent')\n",
    "\n",
    "\tarray_x_ni = np.column_stack((array_x_i, col_adexchange_le, col_slotformat_le, col_slotvisibility_le, col_useragent_le))\n",
    "\n",
    "\t# Model\n",
    "\tNB_model = GaussianNB()\n",
    "\tNB_model.fit(array_x_ni, array_y)\n",
    "\n",
    "\treturn NB_model, adexchange_le, slotformat_le, slotvisibility_le, useragent_le\n",
    "\n",
    "def pred_NB_model(NB_model, df_test, adexchange_le, slotformat_le, slotvisibility_le, useragent_le):\n",
    "\t\"\"\"Uses NB_model to predict probabiolitiy on test set\n",
    "\t   Return predictions (mainly 0s) and probabilities\n",
    "\t\"\"\"\n",
    "\t# x (int features)\n",
    "\tarray_bid = np.asarray(df_test[['bidid']].as_matrix())\n",
    "\tarray_x_i = df_test[['weekday', 'hour', 'region', 'city', 'slotwidth', 'slotheight', 'advertiser']].as_matrix()\n",
    "\t# x ('non-int converted-to-int' features). \n",
    "\t# By providing a xxxxxxx_le we are NOT creating a new encoder\n",
    "\tadexchange_le, t_col_adexchange_le= le_non_integers(df_test, 'adexchange', adexchange_le)\n",
    "\tslotformat_le, t_col_slotformat_le= le_non_integers(df_test, 'slotformat', slotformat_le)\n",
    "\tslotvisibility_le, t_col_slotvisibility_le= le_non_integers(df_test, 'slotvisibility', slotvisibility_le)\n",
    "\tuseragent_le, t_col_useragent_le= le_non_integers(df_test, 'useragent', useragent_le)\n",
    "\n",
    "\tarray_x_ni = np.column_stack((array_x_i, t_col_adexchange_le, t_col_slotformat_le, t_col_slotvisibility_le, t_col_useragent_le))\n",
    "\n",
    "\tlst_predict_log_proba = []\n",
    "\tlst_predict = []\n",
    "\tfor i in range(0, len(df_test)):\n",
    "\t    bid_name = array_bid[i]\n",
    "\t    lst_predict_log_proba.append(NB_model.predict_log_proba(array_x_ni[i]))\n",
    "\t    lst_predict.append(NB_model.predict(array_x_ni[i]))\n",
    "\t    \n",
    "\treturn lst_predict_log_proba, lst_predict"
   ]
  },
  {
   "cell_type": "code",
   "execution_count": 3,
   "metadata": {
    "collapsed": false
   },
   "outputs": [
    {
     "name": "stdout",
     "output_type": "stream",
     "text": [
      "Data loaded 2697738 299749 0\n"
     ]
    }
   ],
   "source": [
    "df_train, df_test, df_validation= load_data('Yes', 'Yes')"
   ]
  },
  {
   "cell_type": "code",
   "execution_count": 26,
   "metadata": {
    "collapsed": false
   },
   "outputs": [
    {
     "name": "stderr",
     "output_type": "stream",
     "text": [
      "/Users/jamesshields/anaconda/lib/python3.5/site-packages/sklearn/utils/validation.py:515: DataConversionWarning: A column-vector y was passed when a 1d array was expected. Please change the shape of y to (n_samples, ), for example using ravel().\n",
      "  y = column_or_1d(y, warn=True)\n"
     ]
    }
   ],
   "source": [
    "NB_model, adexchange_le, slotformat_le, slotvisibility_le, useragent_le= build_NB_model(df_train[:2000])"
   ]
  },
  {
   "cell_type": "code",
   "execution_count": 28,
   "metadata": {
    "collapsed": false
   },
   "outputs": [
    {
     "data": {
      "text/plain": [
       "array([  1.99900000e+03,   1.00000000e+00])"
      ]
     },
     "execution_count": 28,
     "metadata": {},
     "output_type": "execute_result"
    }
   ],
   "source": [
    "NB_model.class_count_"
   ]
  },
  {
   "cell_type": "code",
   "execution_count": 44,
   "metadata": {
    "collapsed": false
   },
   "outputs": [],
   "source": [
    "data_point = df_train[:2000][df_train[:2000]['click']==1]"
   ]
  },
  {
   "cell_type": "code",
   "execution_count": 50,
   "metadata": {
    "collapsed": false
   },
   "outputs": [
    {
     "data": {
      "text/plain": [
       "array([[   6,   16,  333,  334,  728,   90, 3358]])"
      ]
     },
     "execution_count": 50,
     "metadata": {},
     "output_type": "execute_result"
    }
   ],
   "source": [
    "np.asarray(data_point[['weekday', 'hour', 'region', 'city', 'slotwidth', 'slotheight', 'advertiser']])"
   ]
  },
  {
   "cell_type": "code",
   "execution_count": 53,
   "metadata": {
    "collapsed": false
   },
   "outputs": [],
   "source": [
    "adexchange_le, t_col_adexchange_le= le_non_integers(data_point, 'adexchange', adexchange_le)\n",
    "slotformat_le, t_col_slotformat_le= le_non_integers(data_point, 'slotformat', slotformat_le)\n",
    "slotvisibility_le, t_col_slotvisibility_le= le_non_integers(data_point, 'slotvisibility', slotvisibility_le)\n",
    "useragent_le, t_col_useragent_le= le_non_integers(data_point, 'useragent', useragent_le)\n",
    "array_x_ni = np.column_stack((np.asarray(data_point[['weekday', 'hour', 'region', 'city', 'slotwidth', 'slotheight', 'advertiser']]), t_col_adexchange_le, t_col_slotformat_le, t_col_slotvisibility_le, t_col_useragent_le))"
   ]
  },
  {
   "cell_type": "code",
   "execution_count": 54,
   "metadata": {
    "collapsed": false
   },
   "outputs": [
    {
     "data": {
      "text/plain": [
       "array([[   6,   16,  333,  334,  728,   90, 3358,    1,    0,    0,    9]])"
      ]
     },
     "execution_count": 54,
     "metadata": {},
     "output_type": "execute_result"
    }
   ],
   "source": [
    "array_x_ni"
   ]
  },
  {
   "cell_type": "code",
   "execution_count": 64,
   "metadata": {
    "collapsed": false
   },
   "outputs": [
    {
     "name": "stderr",
     "output_type": "stream",
     "text": [
      "/Users/jamesshields/anaconda/lib/python3.5/site-packages/sklearn/utils/validation.py:386: DeprecationWarning: Passing 1d arrays as data is deprecated in 0.17 and willraise ValueError in 0.19. Reshape your data either using X.reshape(-1, 1) if your data has a single feature or X.reshape(1, -1) if it contains a single sample.\n",
      "  DeprecationWarning)\n"
     ]
    },
    {
     "data": {
      "text/plain": [
       "array([[  7.51805703e-31,   1.00000000e+00]])"
      ]
     },
     "execution_count": 64,
     "metadata": {},
     "output_type": "execute_result"
    }
   ],
   "source": [
    "NB_model.predict_proba([   6,   16,  333,  334,  728,   90, 3358,    1,    0,    0,    9])"
   ]
  },
  {
   "cell_type": "code",
   "execution_count": 6,
   "metadata": {
    "collapsed": false
   },
   "outputs": [
    {
     "data": {
      "text/plain": [
       "['__abstractmethods__',\n",
       " '__class__',\n",
       " '__delattr__',\n",
       " '__dict__',\n",
       " '__dir__',\n",
       " '__doc__',\n",
       " '__eq__',\n",
       " '__format__',\n",
       " '__ge__',\n",
       " '__getattribute__',\n",
       " '__gt__',\n",
       " '__hash__',\n",
       " '__init__',\n",
       " '__le__',\n",
       " '__lt__',\n",
       " '__module__',\n",
       " '__ne__',\n",
       " '__new__',\n",
       " '__reduce__',\n",
       " '__reduce_ex__',\n",
       " '__repr__',\n",
       " '__setattr__',\n",
       " '__sizeof__',\n",
       " '__str__',\n",
       " '__subclasshook__',\n",
       " '__weakref__',\n",
       " '_abc_cache',\n",
       " '_abc_negative_cache',\n",
       " '_abc_negative_cache_version',\n",
       " '_abc_registry',\n",
       " '_estimator_type',\n",
       " '_get_param_names',\n",
       " '_joint_log_likelihood',\n",
       " '_partial_fit',\n",
       " '_update_mean_variance',\n",
       " 'class_count_',\n",
       " 'class_prior_',\n",
       " 'classes_',\n",
       " 'fit',\n",
       " 'get_params',\n",
       " 'partial_fit',\n",
       " 'predict',\n",
       " 'predict_log_proba',\n",
       " 'predict_proba',\n",
       " 'score',\n",
       " 'set_params',\n",
       " 'sigma_',\n",
       " 'theta_']"
      ]
     },
     "execution_count": 6,
     "metadata": {},
     "output_type": "execute_result"
    }
   ],
   "source": [
    "dir(NB_model)"
   ]
  },
  {
   "cell_type": "code",
   "execution_count": null,
   "metadata": {
    "collapsed": true
   },
   "outputs": [],
   "source": [
    "NB_model, adexchange_le, slotformat_le, slotvisibility_le, useragent_le= build_NB_model(df_train)\n",
    "lst_predict_log_proba, lst_predict= pred_NB_model(NB_model, df_test, adexchange_le, slotformat_le, slotvisibility_le, useragent_le)\n",
    "\n",
    "np.save('lst_predict', np.asarray(lst_predict))\n",
    "np.save('lst_predict_log_proba', np.asarray(lst_predict_log_proba))\n",
    "\n",
    "print('Script end')"
   ]
  },
  {
   "cell_type": "code",
   "execution_count": 67,
   "metadata": {
    "collapsed": false
   },
   "outputs": [
    {
     "name": "stdout",
     "output_type": "stream",
     "text": [
      "Script end\n"
     ]
    }
   ],
   "source": [
    "pred_lst = np.load('predict_log_proba.npy')\n",
    "pred_log_proba = np.load('lst_predict_log_proba.npy')\n",
    "\n",
    "print('Script end')"
   ]
  },
  {
   "cell_type": "code",
   "execution_count": 78,
   "metadata": {
    "collapsed": false
   },
   "outputs": [
    {
     "name": "stdout",
     "output_type": "stream",
     "text": [
      "-9.48707869195\n"
     ]
    }
   ],
   "source": [
    "pred_lst_r = np.reshape(pred_lst, [-1, 2])\n",
    "max_val = 0\n",
    "for i in range(10000):\n",
    "    if pred_lst_r[i, 1] < max_val:\n",
    "        max_val= pred_lst_r[i, 1]\n",
    "print(max_val)"
   ]
  },
  {
   "cell_type": "code",
   "execution_count": 71,
   "metadata": {
    "collapsed": false
   },
   "outputs": [
    {
     "data": {
      "text/plain": [
       "array([[[ -2.78080751e-04,  -8.18773805e+00]],\n",
       "\n",
       "       [[ -3.78923482e-04,  -7.87836572e+00]],\n",
       "\n",
       "       [[ -3.19964895e-04,  -8.04745925e+00]],\n",
       "\n",
       "       ..., \n",
       "       [[ -2.28439448e-04,  -8.38435360e+00]],\n",
       "\n",
       "       [[ -4.31542543e-04,  -7.74836022e+00]],\n",
       "\n",
       "       [[ -3.00092381e-04,  -8.11157024e+00]]])"
      ]
     },
     "execution_count": 71,
     "metadata": {},
     "output_type": "execute_result"
    }
   ],
   "source": [
    "pred_log_proba"
   ]
  },
  {
   "cell_type": "code",
   "execution_count": null,
   "metadata": {
    "collapsed": true
   },
   "outputs": [],
   "source": []
  },
  {
   "cell_type": "code",
   "execution_count": null,
   "metadata": {
    "collapsed": true
   },
   "outputs": [],
   "source": []
  }
 ],
 "metadata": {
  "anaconda-cloud": {},
  "kernelspec": {
   "display_name": "Python [conda root]",
   "language": "python",
   "name": "conda-root-py"
  },
  "language_info": {
   "codemirror_mode": {
    "name": "ipython",
    "version": 3
   },
   "file_extension": ".py",
   "mimetype": "text/x-python",
   "name": "python",
   "nbconvert_exporter": "python",
   "pygments_lexer": "ipython3",
   "version": "3.5.2"
  }
 },
 "nbformat": 4,
 "nbformat_minor": 1
}
