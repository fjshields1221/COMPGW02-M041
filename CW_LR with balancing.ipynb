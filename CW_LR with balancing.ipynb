{
 "cells": [
  {
   "cell_type": "code",
   "execution_count": 1,
   "metadata": {
    "collapsed": false
   },
   "outputs": [],
   "source": [
    "import math\n",
    "import numpy as np\n",
    "import os\n",
    "import pandas as pd\n",
    "import matplotlib.pyplot as plt\n",
    "import collections as col\n",
    "import re\n",
    "import random\n",
    "import sklearn\n",
    "from sklearn.preprocessing import OneHotEncoder\n",
    "from sklearn.preprocessing import LabelEncoder\n",
    "from sklearn.naive_bayes import GaussianNB\n",
    "from sklearn.naive_bayes import MultinomialNB\n",
    "from sklearn.naive_bayes import BernoulliNB\n",
    "#from sklearn.svm import LinearSVC\n",
    "from sklearn import linear_model\n",
    "from sklearn import metrics\n",
    "from sklearn.ensemble import AdaBoostClassifier"
   ]
  },
  {
   "cell_type": "code",
   "execution_count": 2,
   "metadata": {
    "collapsed": true
   },
   "outputs": [],
   "source": [
    "def load_data(train='Yes', test='No', validation='No'):\n",
    "\t\"\"\"Loads and returns datasets as required\n",
    "\t   Return empty lst for if 'No'\n",
    "\t\"\"\"\n",
    "\tif train=='Yes':\n",
    "\t\tdf_train = pd.read_csv('dataset/train.csv', sep=',')\n",
    "\telse:\n",
    "\t\tdf_train = []\n",
    "\n",
    "\tif test=='Yes':\n",
    "\t\tdf_test = pd.read_csv('dataset/test.csv', sep=',')\n",
    "\telse:\n",
    "\t\tdf_test = []\n",
    "\n",
    "\tif validation=='Yes':\n",
    "\t\tdf_validation = pd.read_csv('dataset/validation.csv', sep=',')\n",
    "\telse:\n",
    "\t\tdf_validation = []\n",
    "\t\n",
    "\tprint('Data loaded', len(df_train), len(df_test), len(df_validation))\n",
    "\treturn df_train, df_test, df_validation"
   ]
  },
  {
   "cell_type": "code",
   "execution_count": 3,
   "metadata": {
    "collapsed": false
   },
   "outputs": [
    {
     "name": "stdout",
     "output_type": "stream",
     "text": [
      "Data loaded 2697738 0 299749\n"
     ]
    }
   ],
   "source": [
    "df_train, df_test, df_validation= load_data('Yes', 'No', 'Yes')"
   ]
  },
  {
   "cell_type": "markdown",
   "metadata": {},
   "source": [
    "## pCTR, Logistic regression and Naive Bayes"
   ]
  },
  {
   "cell_type": "code",
   "execution_count": 6,
   "metadata": {
    "collapsed": true
   },
   "outputs": [],
   "source": [
    "# Feature engineering\n",
    "def label_encoder(df_column_nint, column_le= None): \n",
    "    if column_le== None:\n",
    "        column_le = LabelEncoder()\n",
    "        column_le.fit(df_column_nint.unique())\n",
    "\n",
    "    df_column_int = column_le.transform(df_column_nint)\n",
    "    return pd.DataFrame(df_column_int), column_le\n",
    "\n",
    "def onehot_encoder(df_column_nohe, OHE= None): \n",
    "    \n",
    "    ar = df_column_nohe.reshape((-1, 1))\n",
    "    ar_u = np.unique(ar)\n",
    "    ar_u_r = ar_u.reshape((-1, 1))\n",
    "    ar_u_r.shape\n",
    "    \n",
    "    if OHE== None:\n",
    "        OHE= OneHotEncoder()\n",
    "        OHE.fit(ar_u_r)\n",
    "    \n",
    "    return pd.DataFrame(OHE.transform(ar).toarray()), OHE"
   ]
  },
  {
   "cell_type": "code",
   "execution_count": 7,
   "metadata": {
    "collapsed": false
   },
   "outputs": [],
   "source": [
    "df_LE_train = pd.DataFrame()\n",
    "df_LE_train = df_train\n",
    "\n",
    "# Y - Target\n",
    "array_y = df_LE_train[['click']].as_matrix()\n",
    "array_y_r = np.reshape(array_y, (-1))\n",
    "\n",
    "# X - Features\n",
    "# Label encoding - NB\n",
    "le_adexchange, le_a1 = label_encoder(df_LE_train['adexchange'])\n",
    "le_slotformat, le_s2 = label_encoder(df_LE_train['slotformat'])\n",
    "le_slotvisibility, le_s3 = label_encoder(df_LE_train['slotvisibility'])\n",
    "le_useragent, le_u4 = label_encoder(df_LE_train['useragent'])\n",
    "\n",
    "df_LE_train['le_adexchange']= le_adexchange\n",
    "df_LE_train['le_slotformat']= le_slotformat\n",
    "df_LE_train['le_slotvisibility']= le_slotvisibility\n",
    "df_LE_train['le_useragent']= le_useragent"
   ]
  },
  {
   "cell_type": "code",
   "execution_count": 8,
   "metadata": {
    "collapsed": false
   },
   "outputs": [
    {
     "data": {
      "text/plain": [
       "Index(['click', 'weekday', 'hour', 'bidid', 'logtype', 'userid', 'useragent',\n",
       "       'IP', 'region', 'city', 'adexchange', 'domain', 'url', 'urlid',\n",
       "       'slotid', 'slotwidth', 'slotheight', 'slotvisibility', 'slotformat',\n",
       "       'slotprice', 'creative', 'bidprice', 'payprice', 'keypage',\n",
       "       'advertiser', 'usertag', 'le_adexchange', 'le_slotformat',\n",
       "       'le_slotvisibility', 'le_useragent'],\n",
       "      dtype='object')"
      ]
     },
     "execution_count": 8,
     "metadata": {},
     "output_type": "execute_result"
    }
   ],
   "source": [
    "df_train.columns"
   ]
  },
  {
   "cell_type": "code",
   "execution_count": 9,
   "metadata": {
    "collapsed": false
   },
   "outputs": [],
   "source": [
    "df_OHE_train = pd.DataFrame()\n",
    "df_OHE_train = df_train\n",
    "\n",
    "ohe_weekday, ohe_w1= onehot_encoder(df_OHE_train['weekday'].values)\n",
    "ohe_hour, ohe_h2= onehot_encoder(df_OHE_train['hour'].values)\n",
    "ohe_slotwidth, ohe_s3= onehot_encoder(df_OHE_train['slotwidth'].values)\n",
    "ohe_slotheight, ohe_s4= onehot_encoder(df_OHE_train['slotheight'].values)\n",
    "ohe_advertiser, ohe_a5= onehot_encoder(df_OHE_train['advertiser'].values)\n",
    "ohe_city, ohe_c6= onehot_encoder(df_OHE_train['city'].values)\n",
    "\n",
    "# Requires LE columns also from df_LE_train\n",
    "ohe_adexchange, ohe_a7= onehot_encoder(df_LE_train['le_adexchange'].values)\n",
    "ohe_slotformat, ohe_s8= onehot_encoder(df_LE_train['le_slotformat'].values)\n",
    "ohe_slotvisibility, ohe_s9= onehot_encoder(df_LE_train['le_slotvisibility'].values)\n",
    "ohe_useragent, ohe_u10= onehot_encoder(df_LE_train['le_useragent'].values)"
   ]
  },
  {
   "cell_type": "code",
   "execution_count": 10,
   "metadata": {
    "collapsed": false
   },
   "outputs": [
    {
     "data": {
      "text/plain": [
       "Int64Index([ 0,  1,  2,  3,  4,  5,  6,  0,  1,  2,\n",
       "            ...\n",
       "            29, 30, 31, 32, 33, 34, 35, 36, 37, 38],\n",
       "           dtype='int64', length=504)"
      ]
     },
     "execution_count": 10,
     "metadata": {},
     "output_type": "execute_result"
    }
   ],
   "source": [
    "df_OHE_train_feat= pd.DataFrame()\n",
    "df_OHE_train_feat= pd.concat([ohe_weekday, ohe_hour, ohe_slotwidth, ohe_slotheight, ohe_advertiser, ohe_city, \\\n",
    "                             ohe_adexchange, ohe_slotformat, ohe_slotvisibility, ohe_useragent], axis=1, join='inner')\n",
    "df_OHE_train_feat.columns"
   ]
  },
  {
   "cell_type": "code",
   "execution_count": 11,
   "metadata": {
    "collapsed": true
   },
   "outputs": [],
   "source": [
    "LR_OHE_array_x_all= df_OHE_train_feat.as_matrix()"
   ]
  },
  {
   "cell_type": "code",
   "execution_count": null,
   "metadata": {
    "collapsed": true
   },
   "outputs": [],
   "source": [
    "lst_x_1 = ['advertiser']\n",
    "lst_x_2 = lst_int_features\n",
    "lst_x_3 = [lst_int_features[0], lst_int_features[1], lst_nint_le_features[0]]\n",
    "lst_x_all = lst_int_features+ lst_nint_le_features\n",
    "\n",
    "LE_array_x_1 = df_LE_train[lst_x_1].as_matrix()\n",
    "LE_array_x_2 = df_LE_train[lst_x_2].as_matrix()\n",
    "LE_array_x_3 = df_LE_train[lst_x_3].as_matrix()\n",
    "LE_array_x_all = df_LE_train[lst_x_all].as_matrix()"
   ]
  },
  {
   "cell_type": "code",
   "execution_count": null,
   "metadata": {
    "collapsed": true
   },
   "outputs": [],
   "source": [
    "#OHE_array_x_1 = df_OHE_train[lst_x_1].as_matrix()\n",
    "#OHE_array_x_2 = df_OHE_train[lst_x_2].as_matrix()\n",
    "#OHE_array_x_3 = df_OHE_train[lst_x_3].as_matrix()\n",
    "OHE_array_x_all = df_OHE_train.iloc[35:539].as_matrix()"
   ]
  },
  {
   "cell_type": "code",
   "execution_count": 13,
   "metadata": {
    "collapsed": false
   },
   "outputs": [],
   "source": [
    "# Build model\n",
    "def Naive_Bayes(array_x, array_y):\n",
    "    NB_model = GaussianNB()\n",
    "    NB_model.fit(array_x, array_y)\n",
    "    return NB_model\n",
    "\n",
    "def Logistic_Regression(array_x, array_y):\n",
    "    LR_model = linear_model.LogisticRegression(penalty='l2')\n",
    "    LR_model.fit(array_x, array_y)\n",
    "    return LR_model\n",
    "\n",
    "def AdaBoost_Classifier(array_x, array_y):\n",
    "    AB_model = AdaBoostClassifier()\n",
    "    AB_model.fit(array_x, array_y)\n",
    "    return AB_model\n",
    "\n",
    "# Build with on 'advertiser' from validation set\n",
    "#NB_model_1 = Naive_Bayes(array_x_1, array_y_r)\n",
    "#NB_model_2 = Naive_Bayes(array_x_2, array_y_r)\n",
    "#NB_model_3 = Naive_Bayes(array_x_3, array_y_r)\n",
    "#NB_model_all = Naive_Bayes(array_x_all, array_y_r)\n",
    "\n",
    "#LR_model_1 = Logistic_Regression(array_x_1, array_y_r)\n",
    "#LR_model_2 = Logistic_Regression(array_x_2, array_y_r)\n",
    "#LR_model_3 = Logistic_Regression(array_x_3, array_y_r)\n",
    "#LR_model_all = Logistic_Regression(array_x_all, array_y_r)\n",
    "\n",
    "AB_model_all = AdaBoost_Classifier(LR_OHE_array_x_all, array_y_r)"
   ]
  },
  {
   "cell_type": "code",
   "execution_count": 12,
   "metadata": {
    "collapsed": false
   },
   "outputs": [
    {
     "data": {
      "text/plain": [
       "Int64Index([ 0,  1,  2,  3,  4,  5,  6,  0,  1,  2,\n",
       "            ...\n",
       "            29, 30, 31, 32, 33, 34, 35, 36, 37, 38],\n",
       "           dtype='int64', length=504)"
      ]
     },
     "execution_count": 12,
     "metadata": {},
     "output_type": "execute_result"
    }
   ],
   "source": [
    "# Pipeline validation - Take train ohe_x# and le_x#, to convert validation \n",
    "ohe_weekday_val, _= onehot_encoder(df_validation['weekday'].values, ohe_w1)\n",
    "ohe_hour_val, _= onehot_encoder(df_validation['hour'].values, ohe_h2)\n",
    "ohe_slotwidth_val, _= onehot_encoder(df_validation['slotwidth'].values, ohe_s3)\n",
    "ohe_slotheight_val, _= onehot_encoder(df_validation['slotheight'].values, ohe_s4)\n",
    "ohe_advertiser_val, _= onehot_encoder(df_validation['advertiser'].values, ohe_a5)\n",
    "ohe_city_val, _= onehot_encoder(df_validation['city'].values, ohe_c6)\n",
    "\n",
    "le_adexchange_val, _ = label_encoder(df_validation['adexchange'], le_a1)\n",
    "le_slotformat_val, _ = label_encoder(df_validation['slotformat'], le_s2)\n",
    "le_slotvisibility_val, _ = label_encoder(df_validation['slotvisibility'], le_s3)\n",
    "le_useragent_val, _ = label_encoder(df_validation['useragent'], le_u4)\n",
    "\n",
    "ohe_adexchange_val, _= onehot_encoder(le_adexchange_val.values, ohe_a7)\n",
    "ohe_slotformat_val, _= onehot_encoder(le_slotformat_val.values, ohe_s8)\n",
    "ohe_slotvisibility_val, _= onehot_encoder(le_slotvisibility_val.values, ohe_s9)\n",
    "ohe_useragent_val, _= onehot_encoder(le_useragent_val.values, ohe_u10)\n",
    "\n",
    "df_OHE_val_feat= pd.DataFrame()\n",
    "df_OHE_val_feat= pd.concat([ohe_weekday_val, ohe_hour_val, ohe_slotwidth_val, ohe_slotheight_val, ohe_advertiser_val, ohe_city_val, \\\n",
    "                             ohe_adexchange_val, ohe_slotformat_val, ohe_slotvisibility_val, ohe_useragent_val], axis=1, join='inner')\n",
    "df_OHE_val_feat.columns"
   ]
  },
  {
   "cell_type": "code",
   "execution_count": 22,
   "metadata": {
    "collapsed": true
   },
   "outputs": [],
   "source": [
    "LR_OHE_array_x_all_val= df_OHE_val_feat.as_matrix()\n",
    "array_y = df_validation[['click']].as_matrix()\n",
    "array_y_r = np.reshape(array_y, (-1))"
   ]
  },
  {
   "cell_type": "code",
   "execution_count": 23,
   "metadata": {
    "collapsed": false
   },
   "outputs": [
    {
     "name": "stdout",
     "output_type": "stream",
     "text": [
      "0.663550687186\n"
     ]
    }
   ],
   "source": [
    "# AUC - 0.75 our current best, paper 0.85\n",
    "def AUC_accuracy(XX_model, array_x, array_y):\n",
    "    fpr, tpr, thresholds = metrics.roc_curve(array_y, XX_model.predict_proba(array_x)[:, 1])\n",
    "    return metrics.auc(fpr, tpr)\n",
    "\n",
    "#print(AUC_accuracy(NB_model_all, array_x_all, array_y_r))\n",
    "#print(AUC_accuracy(NB_model_3, array_x_3, array_y_r))\n",
    "#print(AUC_accuracy(LR_model_all, array_x_all, array_y_r))\n",
    "\n",
    "print(AUC_accuracy(AB_model_all, LR_OHE_array_x_all_val, array_y_r))"
   ]
  },
  {
   "cell_type": "code",
   "execution_count": 37,
   "metadata": {
    "collapsed": false
   },
   "outputs": [],
   "source": [
    "array_pCTRs= AB_model_all.predict_proba(LR_OHE_array_x_all_val)"
   ]
  },
  {
   "cell_type": "code",
   "execution_count": 62,
   "metadata": {
    "collapsed": false
   },
   "outputs": [],
   "source": [
    "df_pCTR= pd.DataFrame(array_pCTRs[:, 1])"
   ]
  },
  {
   "cell_type": "code",
   "execution_count": 67,
   "metadata": {
    "collapsed": false
   },
   "outputs": [
    {
     "name": "stderr",
     "output_type": "stream",
     "text": [
      "/Users/jamesshields/anaconda/lib/python3.5/site-packages/pandas/indexes/api.py:71: RuntimeWarning: unorderable types: str() < int(), sort order is undefined for incomparable objects\n",
      "  result = result.union(other)\n"
     ]
    }
   ],
   "source": [
    "df_pCTR_click= pd.DataFrame\n",
    "df_pCTR_click= pd.concat([df_validation[['click', 'bidid']], df_pCTR])"
   ]
  },
  {
   "cell_type": "code",
   "execution_count": 57,
   "metadata": {
    "collapsed": false
   },
   "outputs": [
    {
     "data": {
      "text/html": [
       "<div>\n",
       "<table border=\"1\" class=\"dataframe\">\n",
       "  <thead>\n",
       "    <tr style=\"text-align: right;\">\n",
       "      <th></th>\n",
       "      <th>0</th>\n",
       "    </tr>\n",
       "  </thead>\n",
       "  <tbody>\n",
       "    <tr>\n",
       "      <th>44358</th>\n",
       "      <td>0.487883</td>\n",
       "    </tr>\n",
       "    <tr>\n",
       "      <th>187362</th>\n",
       "      <td>0.486808</td>\n",
       "    </tr>\n",
       "    <tr>\n",
       "      <th>256860</th>\n",
       "      <td>0.486808</td>\n",
       "    </tr>\n",
       "    <tr>\n",
       "      <th>261496</th>\n",
       "      <td>0.486068</td>\n",
       "    </tr>\n",
       "    <tr>\n",
       "      <th>114567</th>\n",
       "      <td>0.486068</td>\n",
       "    </tr>\n",
       "    <tr>\n",
       "      <th>129651</th>\n",
       "      <td>0.485622</td>\n",
       "    </tr>\n",
       "    <tr>\n",
       "      <th>247063</th>\n",
       "      <td>0.485425</td>\n",
       "    </tr>\n",
       "    <tr>\n",
       "      <th>189865</th>\n",
       "      <td>0.485180</td>\n",
       "    </tr>\n",
       "    <tr>\n",
       "      <th>193953</th>\n",
       "      <td>0.485180</td>\n",
       "    </tr>\n",
       "    <tr>\n",
       "      <th>63467</th>\n",
       "      <td>0.485180</td>\n",
       "    </tr>\n",
       "    <tr>\n",
       "      <th>9053</th>\n",
       "      <td>0.485180</td>\n",
       "    </tr>\n",
       "    <tr>\n",
       "      <th>86904</th>\n",
       "      <td>0.485180</td>\n",
       "    </tr>\n",
       "    <tr>\n",
       "      <th>136</th>\n",
       "      <td>0.485180</td>\n",
       "    </tr>\n",
       "    <tr>\n",
       "      <th>265987</th>\n",
       "      <td>0.485180</td>\n",
       "    </tr>\n",
       "    <tr>\n",
       "      <th>177133</th>\n",
       "      <td>0.485180</td>\n",
       "    </tr>\n",
       "    <tr>\n",
       "      <th>88516</th>\n",
       "      <td>0.485180</td>\n",
       "    </tr>\n",
       "    <tr>\n",
       "      <th>94215</th>\n",
       "      <td>0.485180</td>\n",
       "    </tr>\n",
       "    <tr>\n",
       "      <th>230749</th>\n",
       "      <td>0.485180</td>\n",
       "    </tr>\n",
       "    <tr>\n",
       "      <th>182808</th>\n",
       "      <td>0.485180</td>\n",
       "    </tr>\n",
       "    <tr>\n",
       "      <th>34741</th>\n",
       "      <td>0.485180</td>\n",
       "    </tr>\n",
       "    <tr>\n",
       "      <th>275019</th>\n",
       "      <td>0.485180</td>\n",
       "    </tr>\n",
       "    <tr>\n",
       "      <th>178495</th>\n",
       "      <td>0.485180</td>\n",
       "    </tr>\n",
       "    <tr>\n",
       "      <th>18709</th>\n",
       "      <td>0.485180</td>\n",
       "    </tr>\n",
       "    <tr>\n",
       "      <th>295145</th>\n",
       "      <td>0.485180</td>\n",
       "    </tr>\n",
       "    <tr>\n",
       "      <th>72070</th>\n",
       "      <td>0.485180</td>\n",
       "    </tr>\n",
       "    <tr>\n",
       "      <th>116081</th>\n",
       "      <td>0.485180</td>\n",
       "    </tr>\n",
       "    <tr>\n",
       "      <th>46066</th>\n",
       "      <td>0.485180</td>\n",
       "    </tr>\n",
       "    <tr>\n",
       "      <th>235001</th>\n",
       "      <td>0.485180</td>\n",
       "    </tr>\n",
       "    <tr>\n",
       "      <th>32991</th>\n",
       "      <td>0.485180</td>\n",
       "    </tr>\n",
       "    <tr>\n",
       "      <th>231005</th>\n",
       "      <td>0.485180</td>\n",
       "    </tr>\n",
       "    <tr>\n",
       "      <th>...</th>\n",
       "      <td>...</td>\n",
       "    </tr>\n",
       "    <tr>\n",
       "      <th>249086</th>\n",
       "      <td>0.288780</td>\n",
       "    </tr>\n",
       "    <tr>\n",
       "      <th>210099</th>\n",
       "      <td>0.288685</td>\n",
       "    </tr>\n",
       "    <tr>\n",
       "      <th>271408</th>\n",
       "      <td>0.288490</td>\n",
       "    </tr>\n",
       "    <tr>\n",
       "      <th>146133</th>\n",
       "      <td>0.288487</td>\n",
       "    </tr>\n",
       "    <tr>\n",
       "      <th>209607</th>\n",
       "      <td>0.288424</td>\n",
       "    </tr>\n",
       "    <tr>\n",
       "      <th>23675</th>\n",
       "      <td>0.288424</td>\n",
       "    </tr>\n",
       "    <tr>\n",
       "      <th>76943</th>\n",
       "      <td>0.288405</td>\n",
       "    </tr>\n",
       "    <tr>\n",
       "      <th>275525</th>\n",
       "      <td>0.287982</td>\n",
       "    </tr>\n",
       "    <tr>\n",
       "      <th>206012</th>\n",
       "      <td>0.287967</td>\n",
       "    </tr>\n",
       "    <tr>\n",
       "      <th>90059</th>\n",
       "      <td>0.287966</td>\n",
       "    </tr>\n",
       "    <tr>\n",
       "      <th>198320</th>\n",
       "      <td>0.287958</td>\n",
       "    </tr>\n",
       "    <tr>\n",
       "      <th>189624</th>\n",
       "      <td>0.287958</td>\n",
       "    </tr>\n",
       "    <tr>\n",
       "      <th>105238</th>\n",
       "      <td>0.287924</td>\n",
       "    </tr>\n",
       "    <tr>\n",
       "      <th>228050</th>\n",
       "      <td>0.287840</td>\n",
       "    </tr>\n",
       "    <tr>\n",
       "      <th>289587</th>\n",
       "      <td>0.287789</td>\n",
       "    </tr>\n",
       "    <tr>\n",
       "      <th>266184</th>\n",
       "      <td>0.287672</td>\n",
       "    </tr>\n",
       "    <tr>\n",
       "      <th>96852</th>\n",
       "      <td>0.287467</td>\n",
       "    </tr>\n",
       "    <tr>\n",
       "      <th>259015</th>\n",
       "      <td>0.287465</td>\n",
       "    </tr>\n",
       "    <tr>\n",
       "      <th>81575</th>\n",
       "      <td>0.287257</td>\n",
       "    </tr>\n",
       "    <tr>\n",
       "      <th>140769</th>\n",
       "      <td>0.287256</td>\n",
       "    </tr>\n",
       "    <tr>\n",
       "      <th>19032</th>\n",
       "      <td>0.287255</td>\n",
       "    </tr>\n",
       "    <tr>\n",
       "      <th>229784</th>\n",
       "      <td>0.287255</td>\n",
       "    </tr>\n",
       "    <tr>\n",
       "      <th>177778</th>\n",
       "      <td>0.287253</td>\n",
       "    </tr>\n",
       "    <tr>\n",
       "      <th>62892</th>\n",
       "      <td>0.287193</td>\n",
       "    </tr>\n",
       "    <tr>\n",
       "      <th>203932</th>\n",
       "      <td>0.287167</td>\n",
       "    </tr>\n",
       "    <tr>\n",
       "      <th>141581</th>\n",
       "      <td>0.286994</td>\n",
       "    </tr>\n",
       "    <tr>\n",
       "      <th>189404</th>\n",
       "      <td>0.285829</td>\n",
       "    </tr>\n",
       "    <tr>\n",
       "      <th>13379</th>\n",
       "      <td>0.285828</td>\n",
       "    </tr>\n",
       "    <tr>\n",
       "      <th>269775</th>\n",
       "      <td>0.285827</td>\n",
       "    </tr>\n",
       "    <tr>\n",
       "      <th>115830</th>\n",
       "      <td>0.285827</td>\n",
       "    </tr>\n",
       "  </tbody>\n",
       "</table>\n",
       "<p>299749 rows × 1 columns</p>\n",
       "</div>"
      ],
      "text/plain": [
       "               0\n",
       "44358   0.487883\n",
       "187362  0.486808\n",
       "256860  0.486808\n",
       "261496  0.486068\n",
       "114567  0.486068\n",
       "129651  0.485622\n",
       "247063  0.485425\n",
       "189865  0.485180\n",
       "193953  0.485180\n",
       "63467   0.485180\n",
       "9053    0.485180\n",
       "86904   0.485180\n",
       "136     0.485180\n",
       "265987  0.485180\n",
       "177133  0.485180\n",
       "88516   0.485180\n",
       "94215   0.485180\n",
       "230749  0.485180\n",
       "182808  0.485180\n",
       "34741   0.485180\n",
       "275019  0.485180\n",
       "178495  0.485180\n",
       "18709   0.485180\n",
       "295145  0.485180\n",
       "72070   0.485180\n",
       "116081  0.485180\n",
       "46066   0.485180\n",
       "235001  0.485180\n",
       "32991   0.485180\n",
       "231005  0.485180\n",
       "...          ...\n",
       "249086  0.288780\n",
       "210099  0.288685\n",
       "271408  0.288490\n",
       "146133  0.288487\n",
       "209607  0.288424\n",
       "23675   0.288424\n",
       "76943   0.288405\n",
       "275525  0.287982\n",
       "206012  0.287967\n",
       "90059   0.287966\n",
       "198320  0.287958\n",
       "189624  0.287958\n",
       "105238  0.287924\n",
       "228050  0.287840\n",
       "289587  0.287789\n",
       "266184  0.287672\n",
       "96852   0.287467\n",
       "259015  0.287465\n",
       "81575   0.287257\n",
       "140769  0.287256\n",
       "19032   0.287255\n",
       "229784  0.287255\n",
       "177778  0.287253\n",
       "62892   0.287193\n",
       "203932  0.287167\n",
       "141581  0.286994\n",
       "189404  0.285829\n",
       "13379   0.285828\n",
       "269775  0.285827\n",
       "115830  0.285827\n",
       "\n",
       "[299749 rows x 1 columns]"
      ]
     },
     "execution_count": 57,
     "metadata": {},
     "output_type": "execute_result"
    }
   ],
   "source": [
    "a = pd.DataFrame(array_pCTRs[:, 1])\n",
    "a.columns\n",
    "a.sort_values(0, ascending=[False])"
   ]
  },
  {
   "cell_type": "code",
   "execution_count": null,
   "metadata": {
    "collapsed": true
   },
   "outputs": [],
   "source": [
    "def count_clicks_order(df_pCTRs):\n",
    "    counter= 0\n",
    "    dic= {}\n",
    "    for i in range(len(df_pCTRs)):\n",
    "        if df_pCTRs[i:(i+1)]['click'].values== 1:\n",
    "            counter+= 1\n",
    "            dic[counter]= i\n",
    "            if counter== 226:\n",
    "                break\n",
    "    return dic, counter\n",
    "\n",
    "dic1= count_clicks_order(df_pCTRs)"
   ]
  },
  {
   "cell_type": "markdown",
   "metadata": {
    "collapsed": true
   },
   "source": [
    "## Linear bidding strategy"
   ]
  },
  {
   "cell_type": "code",
   "execution_count": null,
   "metadata": {
    "collapsed": true
   },
   "outputs": [],
   "source": [
    "df_int2= pd.DataFrame()\n",
    "df_int2= df_validation\n",
    "df_int2['pCTR']= NB_model_allpCTR_v\n",
    "df_int2['pCTR_norm'] = df_int2['pCTR'].values/ df_int2['pCTR'].mean()"
   ]
  },
  {
   "cell_type": "code",
   "execution_count": null,
   "metadata": {
    "collapsed": true
   },
   "outputs": [],
   "source": [
    "def linear_bid(baseline_bid, imp_pCTR_norm):\n",
    "    lin_bid = baseline_bid* imp_pCTR_norm\n",
    "    return lin_bid\n",
    "\n",
    "def nlinear_bid(baseline_bid, imp_pCTR_norm):\n",
    "    lin_bid = baseline_bid* (imp_pCTR_norm**2)\n",
    "    return nlin_bid\n",
    "\n",
    "def bid_run(df_data_pCTR, baseline_bid, bid_strat= linear_bid, test_run= False, save_run= False):\n",
    "    \n",
    "    if test_run== True:    \n",
    "        df_data_pCTR['imp_bid']= linear_bid(baseline_bid, df_data_pCTR['pCTR_norm'].values)\n",
    "        \n",
    "        df_output = pd.DataFrame()\n",
    "        df_output[['bidid', 'bidprice']]= df_data_pCTR[['bidid', 'imp_bid']]\n",
    "        \n",
    "        if save_run== True:\n",
    "            output_directory= 'Submission/Val/'\n",
    "            output_filename= 'Group_XX.csv'\n",
    "            df_output.to_csv(output_directory + output_filename)\n",
    "            print('Submission file saved: ', os.getcwd(), output_directory, output_filename)\n",
    "        if save_run== False:\n",
    "            print('Submission file not saved')\n",
    "        \n",
    "        return df_data_pCTR\n",
    "    \n",
    "    if test_run== False:\n",
    "        df_data_pCTR['imp_bid']= linear_bid(baseline_bid, df_data_pCTR['pCTR_norm'].values)\n",
    "        df_data_pCTR['imp_h_bid']= np.where(df_data_pCTR['imp_bid'] >= df_data_pCTR['bidprice'], 'Y', 'N')\n",
    "        \n",
    "        total_cost = 0\n",
    "        budget = 25000000\n",
    "        \n",
    "        df_data_pCTR['imp_win']= 'TBC'\n",
    "        \n",
    "        for index, row in df_data_pCTR.iterrows():\n",
    "            if row['imp_h_bid']== 'Y':\n",
    "                if (total_cost+ row['bidprice']) < budget:\n",
    "                    df_data_pCTR.set_value(index,'imp_win', 'Y')\n",
    "                    total_cost+= row['bidprice']\n",
    "                else:\n",
    "                    df_data_pCTR.set_value(index,'imp_win', 'Insuf/b')\n",
    "            else:\n",
    "                df_data_pCTR.set_value(index,'imp_win', 'N')\n",
    "        \n",
    "        return df_data_pCTR"
   ]
  },
  {
   "cell_type": "code",
   "execution_count": null,
   "metadata": {
    "collapsed": false
   },
   "outputs": [],
   "source": [
    "df_data_pCTR_bid = pd.DataFrame()\n",
    "df_data_pCTR_bid = bid_run(df_int2, 1000, test_run= False)"
   ]
  },
  {
   "cell_type": "code",
   "execution_count": null,
   "metadata": {
    "collapsed": false
   },
   "outputs": [],
   "source": [
    "budget= 25000000\n",
    "\n",
    "def CTR_evaluation(df_data_pCTR_bid):\n",
    "    clicks = df_data_pCTR_bid['click'][(df_data_pCTR_bid['click'] == 1)].count()\n",
    "    total = df_data_pCTR_bid['click'][(df_data_pCTR_bid['click'] != 10)].count()\n",
    "    total_CTR = clicks/ total\n",
    "    print('Sample average', total_CTR)\n",
    "    \n",
    "    win = df_data_pCTR_bid['click'][(df_data_pCTR_bid['imp_h_bid'] == 'Y')].count()\n",
    "    win_click = df_data_pCTR_bid['click'][(df_data_pCTR_bid['imp_h_bid'] == 'Y') & (df_data_pCTR_bid.click == 1)].count()\n",
    "    won_CTR = win_click/ win\n",
    "    print('Win bids', won_CTR)\n",
    "    \n",
    "    loss = df_data_pCTR_bid['click'][(df_data_pCTR_bid['imp_h_bid'] == 'N')].count()\n",
    "    loss_click = df_data_pCTR_bid['click'][(df_data_pCTR_bid['imp_h_bid'] == 'N') & (df_data_pCTR_bid.click == 1)].count()\n",
    "    loss_CTR = loss_click/ loss\n",
    "    print('Not won bids', loss_CTR)\n",
    "    print('Won: Average ratio', won_CTR/ total_CTR)\n",
    "    \n",
    "    print('KPIs---')\n",
    "    print('Number of clicks bid (NCB)', win_click)\n",
    "    print('Total spend', df_data_pCTR_bid['bidprice'][(df_data_pCTR_bid['imp_h_bid'] == 'Y')].sum())\n",
    "    print('Total spend (% budget)', (df_data_pCTR_bid['bidprice'][(df_data_pCTR_bid['imp_h_bid'] == 'Y')].sum()/ budget))\n",
    "    print('Average CPM (Cost Per Mille)', '???')\n",
    "    print('Average CPC (Cost Per Click)', (df_data_pCTR_bid['bidprice'][(df_data_pCTR_bid['imp_h_bid'] == 'Y')].sum())/ win_click)\n",
    "    \n",
    "CTR_evaluation(df_data_pCTR_bid)"
   ]
  },
  {
   "cell_type": "code",
   "execution_count": null,
   "metadata": {
    "collapsed": true
   },
   "outputs": [],
   "source": [
    "# Find other evaluation metric\n",
    "# Optimise for baseline_bid\n",
    "# Optimise for other pCRT"
   ]
  }
 ],
 "metadata": {
  "anaconda-cloud": {},
  "kernelspec": {
   "display_name": "Python [conda root]",
   "language": "python",
   "name": "conda-root-py"
  },
  "language_info": {
   "codemirror_mode": {
    "name": "ipython",
    "version": 3
   },
   "file_extension": ".py",
   "mimetype": "text/x-python",
   "name": "python",
   "nbconvert_exporter": "python",
   "pygments_lexer": "ipython3",
   "version": "3.5.2"
  }
 },
 "nbformat": 4,
 "nbformat_minor": 1
}
