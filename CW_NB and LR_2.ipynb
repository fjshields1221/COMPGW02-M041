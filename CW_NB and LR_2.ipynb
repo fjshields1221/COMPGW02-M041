{
 "cells": [
  {
   "cell_type": "code",
   "execution_count": 1,
   "metadata": {
    "collapsed": false
   },
   "outputs": [],
   "source": [
    "import math\n",
    "import numpy as np\n",
    "import os\n",
    "import pandas as pd\n",
    "import matplotlib.pyplot as plt\n",
    "import collections as col\n",
    "import re\n",
    "import random\n",
    "import sklearn\n",
    "from sklearn.preprocessing import OneHotEncoder\n",
    "from sklearn.preprocessing import LabelEncoder\n",
    "from sklearn.naive_bayes import GaussianNB\n",
    "from sklearn.naive_bayes import MultinomialNB\n",
    "from sklearn.naive_bayes import BernoulliNB\n",
    "#from sklearn.svm import LinearSVC\n",
    "from sklearn import linear_model\n",
    "from sklearn import metrics\n",
    "from sklearn.ensemble import AdaBoostClassifier"
   ]
  },
  {
   "cell_type": "code",
   "execution_count": 2,
   "metadata": {
    "collapsed": true
   },
   "outputs": [],
   "source": [
    "def load_data(train='Yes', test='No', validation='No'):\n",
    "\t\"\"\"Loads and returns datasets as required\n",
    "\t   Return empty lst for if 'No'\n",
    "\t\"\"\"\n",
    "\tif train=='Yes':\n",
    "\t\tdf_train = pd.read_csv('dataset/train.csv', sep=',')\n",
    "\telse:\n",
    "\t\tdf_train = []\n",
    "\n",
    "\tif test=='Yes':\n",
    "\t\tdf_test = pd.read_csv('dataset/test.csv', sep=',')\n",
    "\telse:\n",
    "\t\tdf_test = []\n",
    "\n",
    "\tif validation=='Yes':\n",
    "\t\tdf_validation = pd.read_csv('dataset/validation.csv', sep=',')\n",
    "\telse:\n",
    "\t\tdf_validation = []\n",
    "\t\n",
    "\tprint('Data loaded', len(df_train), len(df_test), len(df_validation))\n",
    "\treturn df_train, df_test, df_validation"
   ]
  },
  {
   "cell_type": "code",
   "execution_count": 3,
   "metadata": {
    "collapsed": false
   },
   "outputs": [
    {
     "name": "stdout",
     "output_type": "stream",
     "text": [
      "Data loaded 2697738 0 299749\n"
     ]
    }
   ],
   "source": [
    "df_train, df_test, df_validation= load_data('Yes', 'No', 'Yes')"
   ]
  },
  {
   "cell_type": "markdown",
   "metadata": {},
   "source": [
    "## pCTR, Logistic regression and Naive Bayes"
   ]
  },
  {
   "cell_type": "code",
   "execution_count": null,
   "metadata": {
    "collapsed": true
   },
   "outputs": [],
   "source": [
    "# Feature engineering\n",
    "def label_encoder(df_column_nint, column_le= None): \n",
    "    if column_le== None:\n",
    "        column_le = LabelEncoder()\n",
    "        column_le.fit(df_column_nint.unique())\n",
    "    if column_le!= None:\n",
    "        pass\n",
    "    df_column_int = column_le.transform(df_column_nint)\n",
    "    return pd.DataFrame(df_column_int), column_le\n",
    "\n",
    "def onehot_encoder(df_column_nohe, column_ohe= None): \n",
    "    if column_ohe== None:\n",
    "        column_ohe = OneHotEncoder()\n",
    "        column_ohe.fit(np.unique(df_column_nohe))\n",
    "    if column_ohe!= None:\n",
    "        pass\n",
    "    df_column_ohe = column_ohe.transform(df_column_nohe)\n",
    "    return pd.DataFrame(df_column_ohe.toarray()), column_ohe"
   ]
  },
  {
   "cell_type": "code",
   "execution_count": 4,
   "metadata": {
    "collapsed": false
   },
   "outputs": [
    {
     "ename": "NameError",
     "evalue": "name 'label_encoder' is not defined",
     "output_type": "error",
     "traceback": [
      "\u001b[0;31m---------------------------------------------------------------------------\u001b[0m",
      "\u001b[0;31mNameError\u001b[0m                                 Traceback (most recent call last)",
      "\u001b[0;32m<ipython-input-4-ca46c3a0d3a3>\u001b[0m in \u001b[0;36m<module>\u001b[0;34m()\u001b[0m\n\u001b[1;32m     12\u001b[0m \u001b[0;34m\u001b[0m\u001b[0m\n\u001b[1;32m     13\u001b[0m \u001b[0;31m# Label encoding - NB\u001b[0m\u001b[0;34m\u001b[0m\u001b[0;34m\u001b[0m\u001b[0m\n\u001b[0;32m---> 14\u001b[0;31m \u001b[0mle_adexchange\u001b[0m\u001b[0;34m,\u001b[0m \u001b[0mle_a1\u001b[0m \u001b[0;34m=\u001b[0m \u001b[0mlabel_encoder\u001b[0m\u001b[0;34m(\u001b[0m\u001b[0mdf_LE_train\u001b[0m\u001b[0;34m[\u001b[0m\u001b[0;34m'adexchange'\u001b[0m\u001b[0;34m]\u001b[0m\u001b[0;34m)\u001b[0m\u001b[0;34m\u001b[0m\u001b[0m\n\u001b[0m\u001b[1;32m     15\u001b[0m \u001b[0mle_slotformat\u001b[0m\u001b[0;34m,\u001b[0m \u001b[0mle_s2\u001b[0m \u001b[0;34m=\u001b[0m \u001b[0mlabel_encoder\u001b[0m\u001b[0;34m(\u001b[0m\u001b[0mdf_LE_train\u001b[0m\u001b[0;34m[\u001b[0m\u001b[0;34m'slotformat'\u001b[0m\u001b[0;34m]\u001b[0m\u001b[0;34m)\u001b[0m\u001b[0;34m\u001b[0m\u001b[0m\n\u001b[1;32m     16\u001b[0m \u001b[0mle_slotvisibility\u001b[0m\u001b[0;34m,\u001b[0m \u001b[0mle_s3\u001b[0m \u001b[0;34m=\u001b[0m \u001b[0mlabel_encoder\u001b[0m\u001b[0;34m(\u001b[0m\u001b[0mdf_LE_train\u001b[0m\u001b[0;34m[\u001b[0m\u001b[0;34m'slotvisibility'\u001b[0m\u001b[0;34m]\u001b[0m\u001b[0;34m)\u001b[0m\u001b[0;34m\u001b[0m\u001b[0m\n",
      "\u001b[0;31mNameError\u001b[0m: name 'label_encoder' is not defined"
     ]
    }
   ],
   "source": [
    "df_LE_train = pd.DataFrame()\n",
    "df_LE_train = df_train\n",
    "\n",
    "# Y - Target\n",
    "array_y = df_LE_train[['click']].as_matrix()\n",
    "array_y_r = np.reshape(array_y, (-1))\n",
    "\n",
    "# X - Features\n",
    "lst_int_features = ['weekday', 'hour', 'slotwidth', 'slotheight', 'advertiser', 'city'] \n",
    "lst_nint_features = ['adexchange', 'slotformat', 'slotvisibility', 'useragent']\n",
    "lst_nint_le_features = ['le_adexchange', 'le_slotformat', 'le_slotvisibility', 'le_useragent']\n",
    "\n",
    "# Label encoding - NB\n",
    "le_adexchange, le_a1 = label_encoder(df_LE_train['adexchange'])\n",
    "le_slotformat, le_s2 = label_encoder(df_LE_train['slotformat'])\n",
    "le_slotvisibility, le_s3 = label_encoder(df_LE_train['slotvisibility'])\n",
    "le_useragent, le_u4 = label_encoder(df_LE_train['useragent'])\n",
    "\n",
    "df_LE_train['le_adexchange']= le_adexchange\n",
    "df_LE_train['le_slotformat']= le_slotformat\n",
    "df_LE_train['le_slotvisibility']= le_slotvisibility\n",
    "df_LE_train['le_useragent']= le_useragent"
   ]
  },
  {
   "cell_type": "code",
   "execution_count": null,
   "metadata": {
    "collapsed": true
   },
   "outputs": [],
   "source": [
    "lst_x_1 = ['advertiser']\n",
    "lst_x_2 = lst_int_features\n",
    "lst_x_3 = [lst_int_features[0], lst_int_features[1], lst_nint_le_features[0]]\n",
    "lst_x_all = lst_int_features+ lst_nint_le_features\n",
    "\n",
    "LE_array_x_1 = df_LE_train[lst_x_1].as_matrix()\n",
    "LE_array_x_2 = df_LE_train[lst_x_2].as_matrix()\n",
    "LE_array_x_3 = df_LE_train[lst_x_3].as_matrix()\n",
    "LE_array_x_all = df_LE_train[lst_x_all].as_matrix()"
   ]
  },
  {
   "cell_type": "code",
   "execution_count": null,
   "metadata": {
    "collapsed": false
   },
   "outputs": [],
   "source": [
    "# One-hot encoding - LR\n",
    "df_OHE_train = pd.DataFrame()\n",
    "df_OHE_train = df_train\n",
    "\n",
    "ohe_adexchange, _= onehot_encoder(df_LE_train['le_adexchange'].values)\n",
    "ohe_slotformat, _= onehot_encoder(df_LE_train['le_slotformat'].values)\n",
    "ohe_slotvisibility, _= onehot_encoder(df_LE_train['le_slotvisibility'].values)\n",
    "ohe_useragent, _= onehot_encoder(df_LE_train['le_useragent'].values)\n",
    "\n",
    "ohe_weekday, _= onehot_encoder(df_OHE_train['weekday'].values)\n",
    "ohe_hour, _= onehot_encoder(df_OHE_train['hour'].values)\n",
    "ohe_slotwidth, _= onehot_encoder(df_OHE_train['slotwidth'].values)\n",
    "ohe_slotheight, _= onehot_encoder(df_OHE_train['slotheight'].values)\n",
    "ohe_advertiser, _= onehot_encoder(df_OHE_train['advertiser'].values)\n",
    "ohe_city, _= onehot_encoder(df_OHE_train['city'].values)"
   ]
  },
  {
   "cell_type": "code",
   "execution_count": null,
   "metadata": {
    "collapsed": true
   },
   "outputs": [],
   "source": [
    "df_OHE_train= pd.concat([df_OHE_train, ohe_adexchange], axis=1, join='inner')\n",
    "df_OHE_train= pd.concat([df_OHE_train, ohe_slotformat], axis=1, join='inner')\n",
    "df_OHE_train= pd.concat([df_OHE_train, ohe_slotvisibility], axis=1, join='inner')\n",
    "df_OHE_train= pd.concat([df_OHE_train, ohe_useragent], axis=1, join='inner')\n",
    "\n",
    "df_OHE_train= pd.concat([df_OHE_train, ohe_weekday], axis=1, join='inner')\n",
    "df_OHE_train= pd.concat([df_OHE_train, ohe_hour], axis=1, join='inner')\n",
    "df_OHE_train= pd.concat([df_OHE_train, ohe_slotwidth], axis=1, join='inner')\n",
    "df_OHE_train= pd.concat([df_OHE_train, ohe_slotheight], axis=1, join='inner')\n",
    "df_OHE_train= pd.concat([df_OHE_train, ohe_advertiser], axis=1, join='inner')\n",
    "df_OHE_train= pd.concat([df_OHE_train, ohe_city], axis=1, join='inner')"
   ]
  },
  {
   "cell_type": "code",
   "execution_count": null,
   "metadata": {
    "collapsed": true
   },
   "outputs": [],
   "source": [
    "#OHE_array_x_1 = df_OHE_train[lst_x_1].as_matrix()\n",
    "#OHE_array_x_2 = df_OHE_train[lst_x_2].as_matrix()\n",
    "#OHE_array_x_3 = df_OHE_train[lst_x_3].as_matrix()\n",
    "OHE_array_x_all = df_OHE_train.iloc[35:539].as_matrix()"
   ]
  },
  {
   "cell_type": "code",
   "execution_count": null,
   "metadata": {
    "collapsed": false
   },
   "outputs": [],
   "source": [
    "# Build model\n",
    "def Naive_Bayes(array_x, array_y):\n",
    "    NB_model = GaussianNB()\n",
    "    NB_model.fit(array_x, array_y)\n",
    "    return NB_model\n",
    "\n",
    "def Logistic_Regression(array_x, array_y):\n",
    "    LR_model = linear_model.LogisticRegression(penalty='l2')\n",
    "    LR_model.fit(array_x, array_y)\n",
    "    return LR_model\n",
    "\n",
    "def AdaBoost_Classifier(array_x, array_y):\n",
    "    AB_model = ensemble.AdaBoostClassifier()\n",
    "    AB_model.fit(array_x, array_y)\n",
    "    return AB_model\n",
    "\n",
    "# Build with on 'advertiser' from validation set\n",
    "#NB_model_1 = Naive_Bayes(array_x_1, array_y_r)\n",
    "#NB_model_2 = Naive_Bayes(array_x_2, array_y_r)\n",
    "NB_model_3 = Naive_Bayes(array_x_3, array_y_r)\n",
    "NB_model_all = Naive_Bayes(array_x_all, array_y_r)\n",
    "\n",
    "#LR_model_1 = Logistic_Regression(array_x_1, array_y_r)\n",
    "#LR_model_2 = Logistic_Regression(array_x_2, array_y_r)\n",
    "#LR_model_3 = Logistic_Regression(array_x_3, array_y_r)\n",
    "LR_model_all = Logistic_Regression(array_x_all, array_y_r)\n",
    "\n",
    "AB_model_all = AdaBoost_Classifier(array_x_all, array_y_r)"
   ]
  },
  {
   "cell_type": "code",
   "execution_count": null,
   "metadata": {
    "collapsed": false
   },
   "outputs": [],
   "source": [
    "le_adexchange, _ = label_encoder(df_validation['adexchange'], le_a1)\n",
    "le_slotformat, _ = label_encoder(df_validation['slotformat'], le_s2)\n",
    "le_slotvisibility, _ = label_encoder(df_validation['slotvisibility'], le_s3)\n",
    "le_useragent, _ = label_encoder(df_validation['useragent'], le_u4)\n",
    "\n",
    "df_validation['le_adexchange']= le_adexchange\n",
    "df_validation['le_slotformat']= le_slotformat\n",
    "df_validation['le_slotvisibility']= le_slotvisibility\n",
    "df_validation['le_useragent']= le_useragent"
   ]
  },
  {
   "cell_type": "code",
   "execution_count": null,
   "metadata": {
    "collapsed": false
   },
   "outputs": [],
   "source": [
    "# Infer model\n",
    "#NB_model_1pCTR_v = NB_model_1.predict_proba(df_validation[lst_x_1].as_matrix())[:, 1]\n",
    "#NB_model_2pCTR_v = NB_model_2.predict_proba(df_validation[lst_x_2].as_matrix())[:, 1]\n",
    "#NB_model_3pCTR_v = NB_model_3.predict_proba(df_validation[lst_x_3].as_matrix())[:, 1]\n",
    "NB_model_allpCTR_v = NB_model_all.predict_proba(df_validation[lst_x_all].as_matrix())[:, 1]\n",
    "\n",
    "#LR_model_1pCTR_v = LR_model_1.predict_proba(df_validation[lst_x_1].as_matrix())[:, 1]\n",
    "#LR_model_2pCTR_v = LR_model_2.predict_proba(df_validation[lst_x_2].as_matrix())[:, 1]\n",
    "#LR_model_3pCTR_v = LR_model_3.predict_proba(df_validation[lst_x_3].as_matrix())[:, 1]\n",
    "LR_model_allpCTR_v = LR_model_all.predict_proba(df_validation[lst_x_all].as_matrix())[:, 1]"
   ]
  },
  {
   "cell_type": "code",
   "execution_count": null,
   "metadata": {
    "collapsed": false
   },
   "outputs": [],
   "source": [
    "# Evaluate model - CE\n",
    "def evaluate_model1(df_val, array_pCTR):\n",
    "    return -1/len(df_val) *sum((1- df_val['click'])* np.log(np.clip(array_pCTR, 1e-15 , 1)) +\\\n",
    "    (df_val['click'])* np.log(np.clip((1- array_pCTR), 1e-15 , 1)))\n",
    "\n",
    "def evaluate_model2(df_val, array_pCTR):\n",
    "    return -1/len(df_val) *sum((1- df_val['click'])* np.log(np.clip(array_pCTR, 1e-15 , 1)))\n",
    "\n",
    "def evaluate_model3(df_val, array_pCTR):\n",
    "    return -1/len(df_val) *sum(df_val['click']* np.log(np.clip((1- array_pCTR), 1e-15 , 1)))\n",
    "\n",
    "print('NB')\n",
    "#print(evaluate_model1(df_validation, NB_model_1pCTR_v))\n",
    "#print(evaluate_model1(df_validation, NB_model_2pCTR_v))\n",
    "#print(evaluate_model1(df_validation, NB_model_3pCTR_v))\n",
    "print(evaluate_model1(df_validation, NB_model_allpCTR_v))\n",
    "print('LR')\n",
    "#print(evaluate_model1(df_validation, LR_model_1pCTR_v))\n",
    "#print(evaluate_model1(df_validation, LR_model_2pCTR_v))\n",
    "#print(evaluate_model1(df_validation, LR_model_3pCTR_v))\n",
    "print(evaluate_model1(df_validation, LR_model_allpCTR_v))"
   ]
  },
  {
   "cell_type": "code",
   "execution_count": null,
   "metadata": {
    "collapsed": false
   },
   "outputs": [],
   "source": [
    "#.score\n",
    "array_y = df_validation[['click']].as_matrix()\n",
    "array_y_r = np.reshape(array_y, (-1))\n",
    "\n",
    "print('NB')\n",
    "#print(NB_model_1.score(df_validation[lst_x_1].as_matrix(), array_y_r))\n",
    "#print(NB_model_2.score(df_validation[lst_x_2].as_matrix(), array_y_r))\n",
    "#print(NB_model_3.score(df_validation[lst_x_3].as_matrix(), array_y_r))\n",
    "print(NB_model_all.score(df_validation[lst_x_all].as_matrix(), array_y_r))\n",
    "print('LR')\n",
    "#print(LR_model_1.score(df_validation[lst_x_1].as_matrix(), array_y_r))\n",
    "#print(LR_model_2.score(df_validation[lst_x_2].as_matrix(), array_y_r))\n",
    "#print(LR_model_3.score(df_validation[lst_x_3].as_matrix(), array_y_r))\n",
    "print(LR_model_all.score(df_validation[lst_x_all].as_matrix(), array_y_r))"
   ]
  },
  {
   "cell_type": "code",
   "execution_count": null,
   "metadata": {
    "collapsed": false
   },
   "outputs": [],
   "source": [
    "df_pCTRs= pd.DataFrame()\n",
    "df_pCTRs= df_validation\n",
    "#df_pCTRs['NB_model_1pCTR_v']= NB_model_1pCTR_v\n",
    "#df_pCTRs['NB_model_2pCTR_v']= NB_model_2pCTR_v\n",
    "#df_pCTRs['NB_model_3pCTR_v']= NB_model_3pCTR_v\n",
    "df_pCTRs['NB_model_allpCTR_v']= NB_model_allpCTR_v\n",
    "#df_pCTRs['LR_model_1pCTR_v']= LR_model_1pCTR_v\n",
    "#df_pCTRs['LR_model_2pCTR_v']= LR_model_2pCTR_v\n",
    "#df_pCTRs['LR_model_3pCTR_v']= LR_model_3pCTR_v\n",
    "df_pCTRs['LR_model_allpCTR_v']= LR_model_allpCTR_v"
   ]
  },
  {
   "cell_type": "code",
   "execution_count": null,
   "metadata": {
    "collapsed": false
   },
   "outputs": [],
   "source": [
    "#df_temp1= df_pCTRs[['bidid', 'click', 'NB_model_1pCTR_v']].sort_values('NB_model_1pCTR_v', ascending=False)\n",
    "#df_temp2= df_pCTRs[['bidid', 'click', 'NB_model_2pCTR_v']].sort_values('NB_model_2pCTR_v', ascending=False)\n",
    "#df_temp3= df_pCTRs[['bidid', 'click', 'NB_model_3pCTR_v']].sort_values('NB_model_3pCTR_v', ascending=False)\n",
    "df_temp4= df_pCTRs[['bidid', 'click', 'NB_model_allpCTR_v']].sort_values('NB_model_allpCTR_v', ascending=False)\n",
    "#df_temp5= df_pCTRs[['bidid', 'click', 'LR_model_1pCTR_v']].sort_values('LR_model_1pCTR_v', ascending=False)\n",
    "#df_temp6= df_pCTRs[['bidid', 'click', 'LR_model_2pCTR_v']].sort_values('LR_model_2pCTR_v', ascending=False)\n",
    "#df_temp7= df_pCTRs[['bidid', 'click', 'LR_model_3pCTR_v']].sort_values('LR_model_3pCTR_v', ascending=False)\n",
    "df_temp8= df_pCTRs[['bidid', 'click', 'LR_model_allpCTR_v']].sort_values('LR_model_allpCTR_v', ascending=False)\n",
    "\n",
    "def count_clicks_order(df_pCTRs):\n",
    "    counter= 0\n",
    "    dic= {}\n",
    "    for i in range(len(df_pCTRs)):\n",
    "        if df_pCTRs[i:(i+1)]['click'].values== 1:\n",
    "            counter+= 1\n",
    "            dic[counter]= i\n",
    "            if counter== 226:\n",
    "                break\n",
    "    return dic, counter\n",
    "\n",
    "#dic1= count_clicks_order(df_temp1)\n",
    "#dic2= count_clicks_order(df_temp2)\n",
    "#dic3= count_clicks_order(df_temp3)\n",
    "dic4= count_clicks_order(df_temp4)\n",
    "#dic5= count_clicks_order(df_temp5)\n",
    "#dic6= count_clicks_order(df_temp6)\n",
    "#dic7= count_clicks_order(df_temp7)\n",
    "dic8= count_clicks_order(df_temp8)"
   ]
  },
  {
   "cell_type": "code",
   "execution_count": null,
   "metadata": {
    "collapsed": false
   },
   "outputs": [],
   "source": [
    "x = []\n",
    "y = []\n",
    "#for i, j in dic1[0].items():\n",
    "#    x.append(i)\n",
    "#    y.append(j)\n",
    "x1 = []\n",
    "y1 = []\n",
    "#for i, j in dic2[0].items():\n",
    "#    x1.append(i)\n",
    "#    y1.append(j)\n",
    "x2 = []\n",
    "y2 = []\n",
    "#for i, j in dic3[0].items():\n",
    "#    x2.append(i)\n",
    "#    y2.append(j) \n",
    "x3 = []\n",
    "y3 = []\n",
    "for i, j in dic4[0].items():\n",
    "    x3.append(i)\n",
    "    y3.append(j) \n",
    "x4 = []\n",
    "y4 = []\n",
    "#for i, j in dic5[0].items():\n",
    "#    x4.append(i)\n",
    "#    y4.append(j) \n",
    "x6 = []\n",
    "y6 = []\n",
    "#for i, j in dic7[0].items():\n",
    "#    x6.append(i)\n",
    "#    y6.append(j) \n",
    "x7 = []\n",
    "y7 = []\n",
    "for i, j in dic8[0].items():\n",
    "    x7.append(i)\n",
    "    y7.append(j) "
   ]
  },
  {
   "cell_type": "code",
   "execution_count": null,
   "metadata": {
    "collapsed": false
   },
   "outputs": [],
   "source": [
    "#plt.plot(y, x, label=\"NB_model_1pCTR_v\")\n",
    "#plt.plot(y2, x2, label=\"NB_model_3pCTR_v\") \n",
    "plt.plot(y3, x3, label=\"NB_model_allpCTR_v\")\n",
    "\n",
    "#plt.plot(y4, x4, label=\"LR_model_1pCTR_v\")\n",
    "#plt.plot(y6, x6, label=\"LR_model_3pCTR_v\")\n",
    "plt.plot(y7, x7, label=\"LR_model_allpCTR_v\")\n",
    "\n",
    "plt.legend(bbox_to_anchor=(1.05, 1), loc=2, borderaxespad=0.)\n",
    "plt.xlabel('Validation impressions ordered by pCTR/ model')\n",
    "plt.ylabel('Validation clicked impressions')\n",
    "plt.show()"
   ]
  },
  {
   "cell_type": "code",
   "execution_count": null,
   "metadata": {
    "collapsed": false
   },
   "outputs": [],
   "source": [
    "# AUC - 0.75 our current best, paper 0.85\n",
    "def AUC_accuracy(XX_model, array_x, array_y):\n",
    "    fpr, tpr, thresholds = metrics.roc_curve(array_y, XX_model.predict_proba(array_x_all)[:, 1])\n",
    "    return metrics.auc(fpr, tpr)\n",
    "\n",
    "print(AUC_accuracy(NB_model_all, array_x_all, array_y_r))\n",
    "print(AUC_accuracy(NB_model_3, array_x_3, array_y_r))\n",
    "print(AUC_accuracy(LR_model_all, array_x_all, array_y_r))"
   ]
  },
  {
   "cell_type": "markdown",
   "metadata": {
    "collapsed": true
   },
   "source": [
    "## Linear bidding strategy"
   ]
  },
  {
   "cell_type": "code",
   "execution_count": null,
   "metadata": {
    "collapsed": true
   },
   "outputs": [],
   "source": [
    "df_int2= pd.DataFrame()\n",
    "df_int2= df_validation\n",
    "df_int2['pCTR']= NB_model_allpCTR_v\n",
    "df_int2['pCTR_norm'] = df_int2['pCTR'].values/ df_int2['pCTR'].mean()"
   ]
  },
  {
   "cell_type": "code",
   "execution_count": null,
   "metadata": {
    "collapsed": true
   },
   "outputs": [],
   "source": [
    "def linear_bid(baseline_bid, imp_pCTR_norm):\n",
    "    lin_bid = baseline_bid* imp_pCTR_norm\n",
    "    return lin_bid\n",
    "\n",
    "def nlinear_bid(baseline_bid, imp_pCTR_norm):\n",
    "    lin_bid = baseline_bid* (imp_pCTR_norm**2)\n",
    "    return nlin_bid\n",
    "\n",
    "def bid_run(df_data_pCTR, baseline_bid, bid_strat= linear_bid, test_run= False, save_run= False):\n",
    "    \n",
    "    if test_run== True:    \n",
    "        df_data_pCTR['imp_bid']= linear_bid(baseline_bid, df_data_pCTR['pCTR_norm'].values)\n",
    "        \n",
    "        df_output = pd.DataFrame()\n",
    "        df_output[['bidid', 'bidprice']]= df_data_pCTR[['bidid', 'imp_bid']]\n",
    "        \n",
    "        if save_run== True:\n",
    "            output_directory= 'Submission/Val/'\n",
    "            output_filename= 'Group_XX.csv'\n",
    "            df_output.to_csv(output_directory + output_filename)\n",
    "            print('Submission file saved: ', os.getcwd(), output_directory, output_filename)\n",
    "        if save_run== False:\n",
    "            print('Submission file not saved')\n",
    "        \n",
    "        return df_data_pCTR\n",
    "    \n",
    "    if test_run== False:\n",
    "        df_data_pCTR['imp_bid']= linear_bid(baseline_bid, df_data_pCTR['pCTR_norm'].values)\n",
    "        df_data_pCTR['imp_h_bid']= np.where(df_data_pCTR['imp_bid'] >= df_data_pCTR['bidprice'], 'Y', 'N')\n",
    "        \n",
    "        total_cost = 0\n",
    "        budget = 25000000\n",
    "        \n",
    "        df_data_pCTR['imp_win']= 'TBC'\n",
    "        \n",
    "        for index, row in df_data_pCTR.iterrows():\n",
    "            if row['imp_h_bid']== 'Y':\n",
    "                if (total_cost+ row['bidprice']) < budget:\n",
    "                    df_data_pCTR.set_value(index,'imp_win', 'Y')\n",
    "                    total_cost+= row['bidprice']\n",
    "                else:\n",
    "                    df_data_pCTR.set_value(index,'imp_win', 'Insuf/b')\n",
    "            else:\n",
    "                df_data_pCTR.set_value(index,'imp_win', 'N')\n",
    "        \n",
    "        return df_data_pCTR"
   ]
  },
  {
   "cell_type": "code",
   "execution_count": null,
   "metadata": {
    "collapsed": false
   },
   "outputs": [],
   "source": [
    "df_data_pCTR_bid = pd.DataFrame()\n",
    "df_data_pCTR_bid = bid_run(df_int2, 1000, test_run= False)"
   ]
  },
  {
   "cell_type": "code",
   "execution_count": null,
   "metadata": {
    "collapsed": false
   },
   "outputs": [],
   "source": [
    "budget= 25000000\n",
    "\n",
    "def CTR_evaluation(df_data_pCTR_bid):\n",
    "    clicks = df_data_pCTR_bid['click'][(df_data_pCTR_bid['click'] == 1)].count()\n",
    "    total = df_data_pCTR_bid['click'][(df_data_pCTR_bid['click'] != 10)].count()\n",
    "    total_CTR = clicks/ total\n",
    "    print('Sample average', total_CTR)\n",
    "    \n",
    "    win = df_data_pCTR_bid['click'][(df_data_pCTR_bid['imp_h_bid'] == 'Y')].count()\n",
    "    win_click = df_data_pCTR_bid['click'][(df_data_pCTR_bid['imp_h_bid'] == 'Y') & (df_data_pCTR_bid.click == 1)].count()\n",
    "    won_CTR = win_click/ win\n",
    "    print('Win bids', won_CTR)\n",
    "    \n",
    "    loss = df_data_pCTR_bid['click'][(df_data_pCTR_bid['imp_h_bid'] == 'N')].count()\n",
    "    loss_click = df_data_pCTR_bid['click'][(df_data_pCTR_bid['imp_h_bid'] == 'N') & (df_data_pCTR_bid.click == 1)].count()\n",
    "    loss_CTR = loss_click/ loss\n",
    "    print('Not won bids', loss_CTR)\n",
    "    print('Won: Average ratio', won_CTR/ total_CTR)\n",
    "    \n",
    "    print('KPIs---')\n",
    "    print('Number of clicks bid (NCB)', win_click)\n",
    "    print('Total spend', df_data_pCTR_bid['bidprice'][(df_data_pCTR_bid['imp_h_bid'] == 'Y')].sum())\n",
    "    print('Total spend (% budget)', (df_data_pCTR_bid['bidprice'][(df_data_pCTR_bid['imp_h_bid'] == 'Y')].sum()/ budget))\n",
    "    print('Average CPM (Cost Per Mille)', '???')\n",
    "    print('Average CPC (Cost Per Click)', (df_data_pCTR_bid['bidprice'][(df_data_pCTR_bid['imp_h_bid'] == 'Y')].sum())/ win_click)\n",
    "    \n",
    "CTR_evaluation(df_data_pCTR_bid)"
   ]
  },
  {
   "cell_type": "code",
   "execution_count": null,
   "metadata": {
    "collapsed": true
   },
   "outputs": [],
   "source": [
    "# Find other evaluation metric\n",
    "# Optimise for baseline_bid\n",
    "# Optimise for other pCRT"
   ]
  }
 ],
 "metadata": {
  "anaconda-cloud": {},
  "kernelspec": {
   "display_name": "Python [conda root]",
   "language": "python",
   "name": "conda-root-py"
  },
  "language_info": {
   "codemirror_mode": {
    "name": "ipython",
    "version": 3
   },
   "file_extension": ".py",
   "mimetype": "text/x-python",
   "name": "python",
   "nbconvert_exporter": "python",
   "pygments_lexer": "ipython3",
   "version": "3.5.2"
  }
 },
 "nbformat": 4,
 "nbformat_minor": 1
}
