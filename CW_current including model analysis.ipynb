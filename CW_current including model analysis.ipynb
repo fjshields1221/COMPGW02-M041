{
 "cells": [
  {
   "cell_type": "code",
   "execution_count": 1,
   "metadata": {
    "collapsed": true
   },
   "outputs": [],
   "source": [
    "import math\n",
    "import numpy as np\n",
    "import os\n",
    "import pandas as pd\n",
    "import matplotlib.pyplot as plt\n",
    "import collections as col\n",
    "import re\n",
    "import random\n",
    "import sklearn\n",
    "from sklearn.preprocessing import OneHotEncoder\n",
    "from sklearn.preprocessing import LabelEncoder\n",
    "from sklearn.naive_bayes import GaussianNB"
   ]
  },
  {
   "cell_type": "code",
   "execution_count": 2,
   "metadata": {
    "collapsed": true
   },
   "outputs": [],
   "source": [
    "def load_data(train='Yes', test='No', validation='No'):\n",
    "\t\"\"\"Loads and returns datasets as required\n",
    "\t   Return empty lst for if 'No'\n",
    "\t\"\"\"\n",
    "\tif train=='Yes':\n",
    "\t\tdf_train = pd.read_csv('dataset/train.csv', sep=',')\n",
    "\telse:\n",
    "\t\tdf_train = []\n",
    "\n",
    "\tif test=='Yes':\n",
    "\t\tdf_test = pd.read_csv('dataset/test.csv', sep=',')\n",
    "\telse:\n",
    "\t\tdf_test = []\n",
    "\n",
    "\tif validation=='Yes':\n",
    "\t\tdf_validation = pd.read_csv('dataset/validation.csv', sep=',')\n",
    "\telse:\n",
    "\t\tdf_validation = []\n",
    "\t\n",
    "\tprint('Data loaded', len(df_train), len(df_test), len(df_validation))\n",
    "\treturn df_train, df_test, df_validation"
   ]
  },
  {
   "cell_type": "code",
   "execution_count": 3,
   "metadata": {
    "collapsed": false
   },
   "outputs": [
    {
     "name": "stdout",
     "output_type": "stream",
     "text": [
      "Data loaded 2697738 0 299749\n"
     ]
    }
   ],
   "source": [
    "df_train, df_test, df_validation= load_data('Yes', 'No', 'Yes')"
   ]
  },
  {
   "cell_type": "code",
   "execution_count": 4,
   "metadata": {
    "collapsed": false
   },
   "outputs": [
    {
     "data": {
      "text/plain": [
       "(81655340, 25000000, 56655340)"
      ]
     },
     "execution_count": 4,
     "metadata": {},
     "output_type": "execute_result"
    }
   ],
   "source": [
    "sum(df_validation['bidprice']), 25000000, sum(df_validation['bidprice'])- 25000000"
   ]
  },
  {
   "cell_type": "code",
   "execution_count": 6,
   "metadata": {
    "collapsed": false
   },
   "outputs": [],
   "source": [
    "#Baseline CTR\n",
    "b_CTR= len(df_train[df_train['click']== 1])/ len(df_train)"
   ]
  },
  {
   "cell_type": "code",
   "execution_count": 56,
   "metadata": {
    "collapsed": false
   },
   "outputs": [
    {
     "data": {
      "text/plain": [
       "advertiser\n",
       "1458    0.000833\n",
       "2259    0.000670\n",
       "2261    0.000374\n",
       "2821    0.000624\n",
       "2997    0.004309\n",
       "3358    0.000798\n",
       "3386    0.000598\n",
       "3427    0.000893\n",
       "3476    0.000335\n",
       "Name: click, dtype: float64"
      ]
     },
     "execution_count": 56,
     "metadata": {},
     "output_type": "execute_result"
    }
   ],
   "source": [
    "df_validation.groupby(['advertiser'])['click'].mean()\n",
    "#df_validation['click'].mean()"
   ]
  },
  {
   "cell_type": "code",
   "execution_count": 12,
   "metadata": {
    "collapsed": false
   },
   "outputs": [],
   "source": [
    "def label_encoder(df_column_nint, column_le= None): \n",
    "    \"\"\"df_column_nint in form df_data[column_name]\n",
    "    \"\"\"\n",
    "    if column_le== None:\n",
    "        column_le = LabelEncoder()\n",
    "        column_le.fit(df_column_nint.unique())\n",
    "    if column_le!= None:\n",
    "        pass\n",
    "    df_column_int = column_le.transform(df_column_nint)\n",
    "\n",
    "    return pd.DataFrame(df_column_int), column_le"
   ]
  },
  {
   "cell_type": "code",
   "execution_count": 18,
   "metadata": {
    "collapsed": false
   },
   "outputs": [],
   "source": [
    "lst_nint_features = ['le_adexchange', 'le_slotformat', 'le_slotvisibility', 'le_useragent']\n",
    "#lst_int_features = ['weekday', 'hour', 'slotwidth', 'slotheight', 'advertiser']\n",
    "lst_int_features = ['advertiser']"
   ]
  },
  {
   "cell_type": "code",
   "execution_count": 14,
   "metadata": {
    "collapsed": false
   },
   "outputs": [],
   "source": [
    "df_le_adexchange, le_adexc = label_encoder(df_train['adexchange'])\n",
    "df_le_slotformat, le_slotf = label_encoder(df_train['slotformat'])\n",
    "df_le_slotvisibility, le_slotv = label_encoder(df_train['slotvisibility'])\n",
    "df_le_useragent, le_usera = label_encoder(df_train['useragent'])\n",
    "\n",
    "df_int= df_train[lst_int_features]"
   ]
  },
  {
   "cell_type": "code",
   "execution_count": 15,
   "metadata": {
    "collapsed": false
   },
   "outputs": [
    {
     "name": "stderr",
     "output_type": "stream",
     "text": [
      "/Users/jamesshields/anaconda/lib/python3.5/site-packages/ipykernel/__main__.py:1: SettingWithCopyWarning: \n",
      "A value is trying to be set on a copy of a slice from a DataFrame.\n",
      "Try using .loc[row_indexer,col_indexer] = value instead\n",
      "\n",
      "See the caveats in the documentation: http://pandas.pydata.org/pandas-docs/stable/indexing.html#indexing-view-versus-copy\n",
      "  if __name__ == '__main__':\n",
      "/Users/jamesshields/anaconda/lib/python3.5/site-packages/ipykernel/__main__.py:2: SettingWithCopyWarning: \n",
      "A value is trying to be set on a copy of a slice from a DataFrame.\n",
      "Try using .loc[row_indexer,col_indexer] = value instead\n",
      "\n",
      "See the caveats in the documentation: http://pandas.pydata.org/pandas-docs/stable/indexing.html#indexing-view-versus-copy\n",
      "  from ipykernel import kernelapp as app\n",
      "/Users/jamesshields/anaconda/lib/python3.5/site-packages/ipykernel/__main__.py:3: SettingWithCopyWarning: \n",
      "A value is trying to be set on a copy of a slice from a DataFrame.\n",
      "Try using .loc[row_indexer,col_indexer] = value instead\n",
      "\n",
      "See the caveats in the documentation: http://pandas.pydata.org/pandas-docs/stable/indexing.html#indexing-view-versus-copy\n",
      "  app.launch_new_instance()\n",
      "/Users/jamesshields/anaconda/lib/python3.5/site-packages/ipykernel/__main__.py:4: SettingWithCopyWarning: \n",
      "A value is trying to be set on a copy of a slice from a DataFrame.\n",
      "Try using .loc[row_indexer,col_indexer] = value instead\n",
      "\n",
      "See the caveats in the documentation: http://pandas.pydata.org/pandas-docs/stable/indexing.html#indexing-view-versus-copy\n"
     ]
    }
   ],
   "source": [
    "df_int['le_adexchange'] = df_le_adexchange.values\n",
    "df_int['le_slotformat'] = df_le_slotformat.values\n",
    "df_int['le_slotvisibility'] = df_le_slotvisibility.values\n",
    "df_int['le_useragent'] = df_le_useragent.values\n",
    "\n"
   ]
  },
  {
   "cell_type": "code",
   "execution_count": 16,
   "metadata": {
    "collapsed": false
   },
   "outputs": [
    {
     "data": {
      "text/plain": [
       "(Index(['weekday', 'hour', 'slotwidth', 'slotheight', 'advertiser',\n",
       "        'le_adexchange', 'le_slotformat', 'le_slotvisibility', 'le_useragent'],\n",
       "       dtype='object'), 2697738)"
      ]
     },
     "execution_count": 16,
     "metadata": {},
     "output_type": "execute_result"
    }
   ],
   "source": [
    "df_int.columns, len(df_int)"
   ]
  },
  {
   "cell_type": "code",
   "execution_count": 24,
   "metadata": {
    "collapsed": false
   },
   "outputs": [
    {
     "name": "stderr",
     "output_type": "stream",
     "text": [
      "/Users/jamesshields/anaconda/lib/python3.5/site-packages/sklearn/utils/validation.py:515: DataConversionWarning: A column-vector y was passed when a 1d array was expected. Please change the shape of y to (n_samples, ), for example using ravel().\n",
      "  y = column_or_1d(y, warn=True)\n"
     ]
    },
    {
     "data": {
      "text/plain": [
       "GaussianNB()"
      ]
     },
     "execution_count": 24,
     "metadata": {},
     "output_type": "execute_result"
    }
   ],
   "source": [
    "array_y = df_train[['click']].as_matrix()\n",
    "array_y_r = np.reshape(array_y, (-1, 1))\n",
    "\n",
    "# x (int features)\n",
    "lst_features= (lst_int_features+ lst_nint_features)\n",
    "array_x_i = df_int[lst_int_features].as_matrix()\n",
    "\n",
    "# Model\n",
    "NB_model = GaussianNB()\n",
    "NB_model.fit(array_x_i, array_y_r)"
   ]
  },
  {
   "cell_type": "code",
   "execution_count": 33,
   "metadata": {
    "collapsed": false
   },
   "outputs": [],
   "source": [
    "def pred_NB_model(NB_model, df_test):\n",
    "    \n",
    "    array_bid = df_test[['bidid']].as_matrix()\n",
    "\n",
    "    df_le_adexchange, _ = label_encoder(df_test['adexchange'], le_adexc)\n",
    "    df_le_slotformat, _ = label_encoder(df_test['slotformat'], le_slotf)\n",
    "    df_le_slotvisibility, _ = label_encoder(df_test['slotvisibility'], le_slotv)\n",
    "    df_le_useragent, _ = label_encoder(df_test['useragent'], le_usera)\n",
    "    \n",
    "    df_int= df_test[lst_int_features]\n",
    "    #df_int['le_adexchange'] = df_le_adexchange.values\n",
    "    #df_int['le_slotformat'] = df_le_slotformat.values\n",
    "    #df_int['le_slotvisibility'] = df_le_slotvisibility.values\n",
    "    #df_int['le_useragent'] = df_le_useragent.values\n",
    "    \n",
    "    array_x_i = df_int[lst_int_features].as_matrix()\n",
    "    \n",
    "    lst_predict_log_proba = []\n",
    "    lst_predict = []\n",
    "    lst_predict_proba = []\n",
    "\n",
    "    lst_predict_log_proba = np.column_stack((array_bid, NB_model.predict_log_proba(array_x_i)))\n",
    "    lst_predict = np.column_stack((array_bid, NB_model.predict(array_x_i)))\n",
    "    lst_predict_proba =  np.column_stack((array_bid, NB_model.predict_proba(array_x_i)))\n",
    "\n",
    "    return pd.DataFrame(lst_predict_log_proba), pd.DataFrame(lst_predict), pd.DataFrame(lst_predict_proba), array_x_i"
   ]
  },
  {
   "cell_type": "code",
   "execution_count": 47,
   "metadata": {
    "collapsed": false
   },
   "outputs": [],
   "source": [
    "df_predict_log_proba, _, df_predict_proba, features = pred_NB_model(NB_model, df_validation)"
   ]
  },
  {
   "cell_type": "code",
   "execution_count": 68,
   "metadata": {
    "collapsed": false
   },
   "outputs": [
    {
     "name": "stderr",
     "output_type": "stream",
     "text": [
      "/Users/jamesshields/anaconda/lib/python3.5/site-packages/sklearn/utils/validation.py:386: DeprecationWarning: Passing 1d arrays as data is deprecated in 0.17 and willraise ValueError in 0.19. Reshape your data either using X.reshape(-1, 1) if your data has a single feature or X.reshape(1, -1) if it contains a single sample.\n",
      "  DeprecationWarning)\n"
     ]
    },
    {
     "data": {
      "text/plain": [
       "array([[  9.99222223e-01,   7.77776883e-04]])"
      ]
     },
     "execution_count": 68,
     "metadata": {},
     "output_type": "execute_result"
    }
   ],
   "source": [
    "NB_model.predict_proba([1458])"
   ]
  },
  {
   "cell_type": "code",
   "execution_count": 65,
   "metadata": {
    "collapsed": false
   },
   "outputs": [
    {
     "data": {
      "text/plain": [
       "advertiser\n",
       "1458    0.000833\n",
       "2259    0.000670\n",
       "2261    0.000374\n",
       "2821    0.000624\n",
       "2997    0.004309\n",
       "3358    0.000798\n",
       "3386    0.000598\n",
       "3427    0.000893\n",
       "3476    0.000335\n",
       "Name: click, dtype: float64"
      ]
     },
     "execution_count": 65,
     "metadata": {},
     "output_type": "execute_result"
    }
   ],
   "source": [
    "df_validation.groupby(['advertiser'])['click'].mean()"
   ]
  },
  {
   "cell_type": "code",
   "execution_count": 62,
   "metadata": {
    "collapsed": false
   },
   "outputs": [
    {
     "data": {
      "text/plain": [
       "['__abstractmethods__',\n",
       " '__class__',\n",
       " '__delattr__',\n",
       " '__dict__',\n",
       " '__dir__',\n",
       " '__doc__',\n",
       " '__eq__',\n",
       " '__format__',\n",
       " '__ge__',\n",
       " '__getattribute__',\n",
       " '__gt__',\n",
       " '__hash__',\n",
       " '__init__',\n",
       " '__le__',\n",
       " '__lt__',\n",
       " '__module__',\n",
       " '__ne__',\n",
       " '__new__',\n",
       " '__reduce__',\n",
       " '__reduce_ex__',\n",
       " '__repr__',\n",
       " '__setattr__',\n",
       " '__sizeof__',\n",
       " '__str__',\n",
       " '__subclasshook__',\n",
       " '__weakref__',\n",
       " '_abc_cache',\n",
       " '_abc_negative_cache',\n",
       " '_abc_negative_cache_version',\n",
       " '_abc_registry',\n",
       " '_estimator_type',\n",
       " '_get_param_names',\n",
       " '_joint_log_likelihood',\n",
       " '_partial_fit',\n",
       " '_update_mean_variance',\n",
       " 'class_count_',\n",
       " 'class_prior_',\n",
       " 'classes_',\n",
       " 'fit',\n",
       " 'get_params',\n",
       " 'partial_fit',\n",
       " 'predict',\n",
       " 'predict_log_proba',\n",
       " 'predict_proba',\n",
       " 'score',\n",
       " 'set_params',\n",
       " 'sigma_',\n",
       " 'theta_']"
      ]
     },
     "execution_count": 62,
     "metadata": {},
     "output_type": "execute_result"
    }
   ],
   "source": [
    "dir(NB_model)"
   ]
  },
  {
   "cell_type": "code",
   "execution_count": 46,
   "metadata": {
    "collapsed": false
   },
   "outputs": [
    {
     "data": {
      "text/plain": [
       "0         0.988356\n",
       "1          0.99415\n",
       "2         0.988356\n",
       "3         0.988356\n",
       "4         0.988824\n",
       "5         0.987821\n",
       "6         0.988824\n",
       "7         0.997092\n",
       "8         0.987821\n",
       "9          1.03154\n",
       "10        0.988824\n",
       "11        0.987821\n",
       "12         1.03154\n",
       "13        0.988824\n",
       "14        0.989154\n",
       "15        0.988824\n",
       "16        0.988824\n",
       "17         1.03154\n",
       "18         1.03154\n",
       "19         1.03154\n",
       "20         1.00871\n",
       "21        0.988824\n",
       "22        0.989154\n",
       "23        0.988356\n",
       "24         1.03154\n",
       "25        0.988824\n",
       "26        0.988824\n",
       "27         1.03154\n",
       "28        0.989154\n",
       "29        0.988356\n",
       "            ...   \n",
       "299719    0.987821\n",
       "299720    0.988356\n",
       "299721    0.988356\n",
       "299722     1.03154\n",
       "299723     1.03154\n",
       "299724    0.988356\n",
       "299725    0.997092\n",
       "299726    0.989154\n",
       "299727     1.00871\n",
       "299728    0.989154\n",
       "299729     1.03154\n",
       "299730     1.03154\n",
       "299731    0.989154\n",
       "299732    0.987821\n",
       "299733     1.03154\n",
       "299734     1.03154\n",
       "299735    0.987821\n",
       "299736    0.987821\n",
       "299737    0.988824\n",
       "299738    0.988824\n",
       "299739    0.988824\n",
       "299740     1.00875\n",
       "299741    0.988356\n",
       "299742    0.989154\n",
       "299743    0.989154\n",
       "299744    0.997092\n",
       "299745     1.00871\n",
       "299746    0.989154\n",
       "299747    0.989154\n",
       "299748     1.03154\n",
       "Name: 2, dtype: object"
      ]
     },
     "execution_count": 46,
     "metadata": {},
     "output_type": "execute_result"
    }
   ],
   "source": [
    "df_predict_proba[2]/ df_predict_proba[2].mean()"
   ]
  },
  {
   "cell_type": "code",
   "execution_count": 102,
   "metadata": {
    "collapsed": false
   },
   "outputs": [
    {
     "data": {
      "text/html": [
       "<div>\n",
       "<table border=\"1\" class=\"dataframe\">\n",
       "  <thead>\n",
       "    <tr style=\"text-align: right;\">\n",
       "      <th></th>\n",
       "      <th>0</th>\n",
       "      <th>1</th>\n",
       "      <th>2</th>\n",
       "    </tr>\n",
       "  </thead>\n",
       "  <tbody>\n",
       "    <tr>\n",
       "      <th>0</th>\n",
       "      <td>91c6a6b9e90c0f54d3230815a5a3e22e</td>\n",
       "      <td>0.999815</td>\n",
       "      <td>0.000184854</td>\n",
       "    </tr>\n",
       "    <tr>\n",
       "      <th>1</th>\n",
       "      <td>24b3621ad3b063b6c09c541781d534b3</td>\n",
       "      <td>5.70055e-05</td>\n",
       "      <td>0.999943</td>\n",
       "    </tr>\n",
       "    <tr>\n",
       "      <th>2</th>\n",
       "      <td>6e7bce0a9ad42f479827d37bf9618a9d</td>\n",
       "      <td>0.999805</td>\n",
       "      <td>0.000194664</td>\n",
       "    </tr>\n",
       "    <tr>\n",
       "      <th>3</th>\n",
       "      <td>6873feca381b8293bf418ba8408a014c</td>\n",
       "      <td>0.999776</td>\n",
       "      <td>0.000223879</td>\n",
       "    </tr>\n",
       "    <tr>\n",
       "      <th>4</th>\n",
       "      <td>7e6430333c552cf0b32bb21dc792d2df</td>\n",
       "      <td>0.99983</td>\n",
       "      <td>0.000169598</td>\n",
       "    </tr>\n",
       "    <tr>\n",
       "      <th>5</th>\n",
       "      <td>903211f027ca70f611544f42b94db094</td>\n",
       "      <td>0.9998</td>\n",
       "      <td>0.000200285</td>\n",
       "    </tr>\n",
       "    <tr>\n",
       "      <th>6</th>\n",
       "      <td>15274113eac79b065e186c1962c33632</td>\n",
       "      <td>0.999785</td>\n",
       "      <td>0.000214662</td>\n",
       "    </tr>\n",
       "    <tr>\n",
       "      <th>7</th>\n",
       "      <td>9c963e762671efbc15c4e9fb3cef9c46</td>\n",
       "      <td>0.999617</td>\n",
       "      <td>0.000382846</td>\n",
       "    </tr>\n",
       "    <tr>\n",
       "      <th>8</th>\n",
       "      <td>a483f16043e9f0057d542ee724cd81cb</td>\n",
       "      <td>0.999836</td>\n",
       "      <td>0.00016404</td>\n",
       "    </tr>\n",
       "    <tr>\n",
       "      <th>9</th>\n",
       "      <td>2da6d0891a81ac8233bba9bcffde2159</td>\n",
       "      <td>0.999827</td>\n",
       "      <td>0.000173416</td>\n",
       "    </tr>\n",
       "  </tbody>\n",
       "</table>\n",
       "</div>"
      ],
      "text/plain": [
       "                                  0            1            2\n",
       "0  91c6a6b9e90c0f54d3230815a5a3e22e     0.999815  0.000184854\n",
       "1  24b3621ad3b063b6c09c541781d534b3  5.70055e-05     0.999943\n",
       "2  6e7bce0a9ad42f479827d37bf9618a9d     0.999805  0.000194664\n",
       "3  6873feca381b8293bf418ba8408a014c     0.999776  0.000223879\n",
       "4  7e6430333c552cf0b32bb21dc792d2df      0.99983  0.000169598\n",
       "5  903211f027ca70f611544f42b94db094       0.9998  0.000200285\n",
       "6  15274113eac79b065e186c1962c33632     0.999785  0.000214662\n",
       "7  9c963e762671efbc15c4e9fb3cef9c46     0.999617  0.000382846\n",
       "8  a483f16043e9f0057d542ee724cd81cb     0.999836   0.00016404\n",
       "9  2da6d0891a81ac8233bba9bcffde2159     0.999827  0.000173416"
      ]
     },
     "execution_count": 102,
     "metadata": {},
     "output_type": "execute_result"
    }
   ],
   "source": [
    "df_predict_proba[:10]"
   ]
  },
  {
   "cell_type": "code",
   "execution_count": 103,
   "metadata": {
    "collapsed": false
   },
   "outputs": [],
   "source": [
    "df_predict_proba.columns = ['bid', 'prob_0', 'prob_1']"
   ]
  },
  {
   "cell_type": "code",
   "execution_count": 104,
   "metadata": {
    "collapsed": false
   },
   "outputs": [
    {
     "data": {
      "text/plain": [
       "0.026881549128524345"
      ]
     },
     "execution_count": 104,
     "metadata": {},
     "output_type": "execute_result"
    }
   ],
   "source": [
    "df_predict_proba['prob_1'].mean()"
   ]
  },
  {
   "cell_type": "code",
   "execution_count": 105,
   "metadata": {
    "collapsed": true
   },
   "outputs": [],
   "source": [
    "df_predict_proba['prob_1n']= df_predict_proba['prob_1']/ df_predict_proba['prob_1'].mean()"
   ]
  },
  {
   "cell_type": "code",
   "execution_count": 106,
   "metadata": {
    "collapsed": false
   },
   "outputs": [
    {
     "data": {
      "text/plain": [
       "8181"
      ]
     },
     "execution_count": 106,
     "metadata": {},
     "output_type": "execute_result"
    }
   ],
   "source": [
    "df_predict_proba['prob_1n'].max()\n",
    "len(df_predict_proba[df_predict_proba['prob_1n']> 1])"
   ]
  },
  {
   "cell_type": "code",
   "execution_count": 107,
   "metadata": {
    "collapsed": false
   },
   "outputs": [],
   "source": [
    "df_predict_proba['log_prob_1']= df_predict_log_proba[2]"
   ]
  },
  {
   "cell_type": "code",
   "execution_count": 110,
   "metadata": {
    "collapsed": false
   },
   "outputs": [
    {
     "data": {
      "text/html": [
       "<div>\n",
       "<table border=\"1\" class=\"dataframe\">\n",
       "  <thead>\n",
       "    <tr style=\"text-align: right;\">\n",
       "      <th></th>\n",
       "      <th>bid</th>\n",
       "      <th>prob_0</th>\n",
       "      <th>prob_1</th>\n",
       "      <th>prob_1n</th>\n",
       "      <th>log_prob_1</th>\n",
       "    </tr>\n",
       "  </thead>\n",
       "  <tbody>\n",
       "    <tr>\n",
       "      <th>0</th>\n",
       "      <td>91c6a6b9e90c0f54d3230815a5a3e22e</td>\n",
       "      <td>0.999815</td>\n",
       "      <td>0.000184854</td>\n",
       "      <td>0.00687661</td>\n",
       "      <td>-8.59594</td>\n",
       "    </tr>\n",
       "    <tr>\n",
       "      <th>1</th>\n",
       "      <td>24b3621ad3b063b6c09c541781d534b3</td>\n",
       "      <td>5.70055e-05</td>\n",
       "      <td>0.999943</td>\n",
       "      <td>37.1981</td>\n",
       "      <td>-5.70072e-05</td>\n",
       "    </tr>\n",
       "    <tr>\n",
       "      <th>2</th>\n",
       "      <td>6e7bce0a9ad42f479827d37bf9618a9d</td>\n",
       "      <td>0.999805</td>\n",
       "      <td>0.000194664</td>\n",
       "      <td>0.00724155</td>\n",
       "      <td>-8.54424</td>\n",
       "    </tr>\n",
       "    <tr>\n",
       "      <th>3</th>\n",
       "      <td>6873feca381b8293bf418ba8408a014c</td>\n",
       "      <td>0.999776</td>\n",
       "      <td>0.000223879</td>\n",
       "      <td>0.00832834</td>\n",
       "      <td>-8.40441</td>\n",
       "    </tr>\n",
       "    <tr>\n",
       "      <th>4</th>\n",
       "      <td>7e6430333c552cf0b32bb21dc792d2df</td>\n",
       "      <td>0.99983</td>\n",
       "      <td>0.000169598</td>\n",
       "      <td>0.00630907</td>\n",
       "      <td>-8.68208</td>\n",
       "    </tr>\n",
       "    <tr>\n",
       "      <th>5</th>\n",
       "      <td>903211f027ca70f611544f42b94db094</td>\n",
       "      <td>0.9998</td>\n",
       "      <td>0.000200285</td>\n",
       "      <td>0.00745066</td>\n",
       "      <td>-8.51577</td>\n",
       "    </tr>\n",
       "    <tr>\n",
       "      <th>6</th>\n",
       "      <td>15274113eac79b065e186c1962c33632</td>\n",
       "      <td>0.999785</td>\n",
       "      <td>0.000214662</td>\n",
       "      <td>0.00798548</td>\n",
       "      <td>-8.44645</td>\n",
       "    </tr>\n",
       "    <tr>\n",
       "      <th>7</th>\n",
       "      <td>9c963e762671efbc15c4e9fb3cef9c46</td>\n",
       "      <td>0.999617</td>\n",
       "      <td>0.000382846</td>\n",
       "      <td>0.014242</td>\n",
       "      <td>-7.86788</td>\n",
       "    </tr>\n",
       "    <tr>\n",
       "      <th>8</th>\n",
       "      <td>a483f16043e9f0057d542ee724cd81cb</td>\n",
       "      <td>0.999836</td>\n",
       "      <td>0.00016404</td>\n",
       "      <td>0.00610234</td>\n",
       "      <td>-8.7154</td>\n",
       "    </tr>\n",
       "    <tr>\n",
       "      <th>9</th>\n",
       "      <td>2da6d0891a81ac8233bba9bcffde2159</td>\n",
       "      <td>0.999827</td>\n",
       "      <td>0.000173416</td>\n",
       "      <td>0.0064511</td>\n",
       "      <td>-8.65982</td>\n",
       "    </tr>\n",
       "  </tbody>\n",
       "</table>\n",
       "</div>"
      ],
      "text/plain": [
       "                                bid       prob_0       prob_1     prob_1n  \\\n",
       "0  91c6a6b9e90c0f54d3230815a5a3e22e     0.999815  0.000184854  0.00687661   \n",
       "1  24b3621ad3b063b6c09c541781d534b3  5.70055e-05     0.999943     37.1981   \n",
       "2  6e7bce0a9ad42f479827d37bf9618a9d     0.999805  0.000194664  0.00724155   \n",
       "3  6873feca381b8293bf418ba8408a014c     0.999776  0.000223879  0.00832834   \n",
       "4  7e6430333c552cf0b32bb21dc792d2df      0.99983  0.000169598  0.00630907   \n",
       "5  903211f027ca70f611544f42b94db094       0.9998  0.000200285  0.00745066   \n",
       "6  15274113eac79b065e186c1962c33632     0.999785  0.000214662  0.00798548   \n",
       "7  9c963e762671efbc15c4e9fb3cef9c46     0.999617  0.000382846    0.014242   \n",
       "8  a483f16043e9f0057d542ee724cd81cb     0.999836   0.00016404  0.00610234   \n",
       "9  2da6d0891a81ac8233bba9bcffde2159     0.999827  0.000173416   0.0064511   \n",
       "\n",
       "    log_prob_1  \n",
       "0     -8.59594  \n",
       "1 -5.70072e-05  \n",
       "2     -8.54424  \n",
       "3     -8.40441  \n",
       "4     -8.68208  \n",
       "5     -8.51577  \n",
       "6     -8.44645  \n",
       "7     -7.86788  \n",
       "8      -8.7154  \n",
       "9     -8.65982  "
      ]
     },
     "execution_count": 110,
     "metadata": {},
     "output_type": "execute_result"
    }
   ],
   "source": [
    "df_predict_proba[:10]"
   ]
  },
  {
   "cell_type": "code",
   "execution_count": 112,
   "metadata": {
    "collapsed": false
   },
   "outputs": [],
   "source": [
    "df_predict_proba.to_csv('val_NB_pCTR_2.csv')"
   ]
  },
  {
   "cell_type": "code",
   "execution_count": 26,
   "metadata": {
    "collapsed": false
   },
   "outputs": [],
   "source": [
    "# CE loss\n",
    "def ce_log_loss(df_):\n",
    "    return sum(df_[['click']].values* (1- df_[['log_pCTR']].values) + \\\n",
    "(1- df_[['click']].values)* (df_[['log_pCTR']].values))"
   ]
  },
  {
   "cell_type": "code",
   "execution_count": 40,
   "metadata": {
    "collapsed": false
   },
   "outputs": [
    {
     "name": "stdout",
     "output_type": "stream",
     "text": [
      "[-2151768.70189764]\n",
      "0.000753964988441278\n"
     ]
    }
   ],
   "source": [
    "# Baseline assuming average b_CTR = 0.0007539649884458758\n",
    "\n",
    "df_validation_pCTR_baseline= df_validation\n",
    "df_validation_pCTR_baseline['pCTR']= b_CTR\n",
    "df_validation_pCTR_baseline['log_pCTR'] = np.log(df_validation_pCTR_baseline['pCTR'].values)\n",
    "print(ce_log_loss(df_validation_pCTR_baseline))\n",
    "print(df_validation_pCTR_baseline['pCTR'].mean())"
   ]
  },
  {
   "cell_type": "code",
   "execution_count": 29,
   "metadata": {
    "collapsed": true
   },
   "outputs": [],
   "source": [
    "LR_model1 = pd.read_csv('LR_pCTR_validation.csv')\n",
    "NB_model1 = pd.read_csv('val_NB_pCTR_1.csv')\n",
    "NB_model2 = pd.read_csv('val_NB_pCTR_2.csv')"
   ]
  },
  {
   "cell_type": "code",
   "execution_count": 36,
   "metadata": {
    "collapsed": false
   },
   "outputs": [
    {
     "name": "stdout",
     "output_type": "stream",
     "text": [
      "[-2392425.90439859]\n",
      "0.026974865223408976\n"
     ]
    }
   ],
   "source": [
    "df_validation_pCTR_NB= df_validation\n",
    "df_validation_pCTR_NB['bidid_2'] = NB_model1['bid'].values\n",
    "df_validation_pCTR_NB['pCTR'] = NB_model1['prob_1'].values\n",
    "df_validation_pCTR_NB['log_pCTR'] = NB_model1['log_prob_1'].values\n",
    "print(ce_log_loss(df_validation_pCTR_NB))\n",
    "print(df_validation_pCTR_NB['pCTR'].mean())"
   ]
  },
  {
   "cell_type": "code",
   "execution_count": 34,
   "metadata": {
    "collapsed": false
   },
   "outputs": [
    {
     "name": "stdout",
     "output_type": "stream",
     "text": [
      "[-2440614.66430027]\n",
      "0.026881549128524345\n"
     ]
    }
   ],
   "source": [
    "df_validation_pCTR_NB_2= df_validation\n",
    "df_validation_pCTR_NB_2['bidid_2'] = NB_model2['bid'].values\n",
    "df_validation_pCTR_NB_2['pCTR'] = NB_model2['prob_1'].values\n",
    "df_validation_pCTR_NB_2['log_pCTR'] = NB_model2['log_prob_1'].values\n",
    "print(ce_log_loss(df_validation_pCTR_NB_2))\n",
    "print(df_validation_pCTR_NB_2['pCTR'].mean())"
   ]
  },
  {
   "cell_type": "code",
   "execution_count": 35,
   "metadata": {
    "collapsed": false
   },
   "outputs": [
    {
     "name": "stdout",
     "output_type": "stream",
     "text": [
      "[-2254155.39045959]\n",
      "0.0007536088052850036\n"
     ]
    }
   ],
   "source": [
    "df_validation_pCTR_LR= df_validation\n",
    "df_validation_pCTR_LR['pCTR']= LR_model1['1'].values\n",
    "df_validation_pCTR_LR['log_pCTR']= np.log(df_validation_pCTR_LR['pCTR'].values)\n",
    "print(ce_log_loss(df_validation_pCTR_LR))\n",
    "print(df_validation_pCTR_LR['pCTR'].mean())"
   ]
  },
  {
   "cell_type": "code",
   "execution_count": null,
   "metadata": {
    "collapsed": true
   },
   "outputs": [],
   "source": []
  }
 ],
 "metadata": {
  "anaconda-cloud": {},
  "kernelspec": {
   "display_name": "Python [conda root]",
   "language": "python",
   "name": "conda-root-py"
  },
  "language_info": {
   "codemirror_mode": {
    "name": "ipython",
    "version": 3
   },
   "file_extension": ".py",
   "mimetype": "text/x-python",
   "name": "python",
   "nbconvert_exporter": "python",
   "pygments_lexer": "ipython3",
   "version": "3.5.2"
  }
 },
 "nbformat": 4,
 "nbformat_minor": 1
}
