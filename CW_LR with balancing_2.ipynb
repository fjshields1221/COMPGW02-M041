{
 "cells": [
  {
   "cell_type": "code",
   "execution_count": 1,
   "metadata": {
    "collapsed": false
   },
   "outputs": [],
   "source": [
    "import math\n",
    "import numpy as np\n",
    "import os\n",
    "import pandas as pd\n",
    "import matplotlib.pyplot as plt\n",
    "import collections as col\n",
    "import re\n",
    "import random\n",
    "import sklearn\n",
    "from sklearn.preprocessing import OneHotEncoder\n",
    "from sklearn.preprocessing import LabelEncoder\n",
    "from sklearn.naive_bayes import GaussianNB\n",
    "from sklearn.naive_bayes import MultinomialNB\n",
    "from sklearn.naive_bayes import BernoulliNB\n",
    "#from sklearn.svm import LinearSVC\n",
    "from sklearn import linear_model\n",
    "from sklearn import metrics\n",
    "from sklearn.ensemble import AdaBoostClassifier\n",
    "#from sklearn.model_selection import KFold, cross_val_score\n",
    "from sklearn.metrics import auc,roc_curve"
   ]
  },
  {
   "cell_type": "code",
   "execution_count": 2,
   "metadata": {
    "collapsed": true
   },
   "outputs": [],
   "source": [
    "def load_data(train='Yes', test='No', validation='No'):\n",
    "\t\"\"\"Loads and returns datasets as required\n",
    "\t   Return empty lst for if 'No'\n",
    "\t\"\"\"\n",
    "\tif train=='Yes':\n",
    "\t\tdf_train = pd.read_csv('dataset/train.csv', sep=',')\n",
    "\telse:\n",
    "\t\tdf_train = []\n",
    "\n",
    "\tif test=='Yes':\n",
    "\t\tdf_test = pd.read_csv('dataset/test.csv', sep=',')\n",
    "\telse:\n",
    "\t\tdf_test = []\n",
    "\n",
    "\tif validation=='Yes':\n",
    "\t\tdf_validation = pd.read_csv('dataset/validation.csv', sep=',')\n",
    "\telse:\n",
    "\t\tdf_validation = []\n",
    "\t\n",
    "\tprint('Data loaded', len(df_train), len(df_test), len(df_validation))\n",
    "\treturn df_train, df_test, df_validation"
   ]
  },
  {
   "cell_type": "code",
   "execution_count": 3,
   "metadata": {
    "collapsed": false
   },
   "outputs": [
    {
     "name": "stdout",
     "output_type": "stream",
     "text": [
      "Data loaded 2697738 0 299749\n"
     ]
    }
   ],
   "source": [
    "df_train, df_test, df_validation= load_data('Yes', 'No', 'Yes')"
   ]
  },
  {
   "cell_type": "markdown",
   "metadata": {},
   "source": [
    "## pCTR, Logistic regression and Naive Bayes"
   ]
  },
  {
   "cell_type": "code",
   "execution_count": 4,
   "metadata": {
    "collapsed": true
   },
   "outputs": [],
   "source": [
    "# Feature engineering\n",
    "def label_encoder(df_column_nint, column_le= None): \n",
    "    if column_le== None:\n",
    "        column_le = LabelEncoder()\n",
    "        column_le.fit(df_column_nint.unique())\n",
    "\n",
    "    df_column_int = column_le.transform(df_column_nint)\n",
    "    return pd.DataFrame(df_column_int), column_le\n",
    "\n",
    "def onehot_encoder(df_column_nohe, OHE= None): \n",
    "    \n",
    "    ar = df_column_nohe.reshape((-1, 1))\n",
    "    ar_u = np.unique(ar)\n",
    "    ar_u_r = ar_u.reshape((-1, 1))\n",
    "    ar_u_r.shape\n",
    "    \n",
    "    if OHE== None:\n",
    "        OHE= OneHotEncoder()\n",
    "        OHE.fit(ar_u_r)\n",
    "    \n",
    "    return pd.DataFrame(OHE.transform(ar).toarray()), OHE"
   ]
  },
  {
   "cell_type": "code",
   "execution_count": 5,
   "metadata": {
    "collapsed": false
   },
   "outputs": [],
   "source": [
    "# Build model\n",
    "def AdaBoost_Classifier(array_x, array_y):\n",
    "    AB_model = AdaBoostClassifier()\n",
    "    AB_model.fit(array_x, array_y)\n",
    "    return AB_model\n",
    "\n",
    "def AUC_accuracy(XX_model, array_x, array_y):\n",
    "    fpr, tpr, thresholds = metrics.roc_curve(array_y, XX_model.predict_proba(array_x)[:, 1])\n",
    "    return metrics.auc(fpr, tpr)\n",
    "\n",
    "#AB_model_all = AdaBoost_Classifier(LR_OHE_array_x_all, array_y_r)\n",
    "#AUC_accuracy(AB_model_all, LR_OHE_array_x_all_val, array_y_r)"
   ]
  },
  {
   "cell_type": "code",
   "execution_count": 4,
   "metadata": {
    "collapsed": false
   },
   "outputs": [],
   "source": [
    "X_train = df_train.drop(['click','bidid','logtype','userid','IP','domain',\n",
    "                'url','urlid','slotid','creative','bidprice','payprice','keypage'], axis=1)\n",
    "y_train = df_train.click\n",
    "\n",
    "X_val = df_validation.drop(['click','bidid','logtype','userid','IP','domain',\n",
    "                'url','urlid','slotid','creative','bidprice','payprice','keypage'], axis=1)\n",
    "y_val = df_validation.click\n",
    "#X_test = df_test.drop(['bidid','logtype','userid','IP','domain',\n",
    "#                'url','urlid','slotid','creative','keypage'], axis=1)"
   ]
  },
  {
   "cell_type": "code",
   "execution_count": 5,
   "metadata": {
    "collapsed": true
   },
   "outputs": [],
   "source": [
    "# Handling categorical data with one hot encoding\n",
    "\n",
    "# 1. Encode day of week\n",
    "def enc_day(X):\n",
    "    X = pd.concat([X,pd.get_dummies(X.weekday,prefix='day')],axis=1)\n",
    "    X = X.drop('weekday',axis=1)\n",
    "    return X\n",
    "\n",
    "# 2. Encode hours\n",
    "def enc_hrs(X):\n",
    "    X = pd.concat([X,pd.get_dummies(X.hour,prefix='hour')],axis=1)\n",
    "    X = X.drop('hour',axis=1)\n",
    "    return X\n",
    "\n",
    "# Split user agent into 2 ~ OS and browser\n",
    "def enc_OS_browser(X):\n",
    "    df = pd.DataFrame(X.useragent.str.split('_',1).tolist(),\n",
    "                                   columns = ['OS','browser'])\n",
    "    X = pd.concat([X,df],axis=1)\n",
    "\n",
    "    # 3. Encode OS\n",
    "    X = pd.concat([X,pd.get_dummies(X.OS,prefix='OS')],axis=1)\n",
    "    X = X.drop('OS',axis=1)\n",
    "\n",
    "    # 4. Encode browser\n",
    "    X = pd.concat([X,pd.get_dummies(X.browser,prefix='browser')],axis=1)\n",
    "    X = X.drop('browser',axis=1)\n",
    "    \n",
    "    X = X.drop('useragent',axis=1)\n",
    "    return X\n",
    "\n",
    "# 5. Encode region\n",
    "def enc_region(X):\n",
    "    X = pd.concat([X,pd.get_dummies(X.region,prefix='region')],axis=1)\n",
    "    X = X.drop('region',axis=1)\n",
    "    return X\n",
    "\n",
    "# 6. Encode adexchange\n",
    "def enc_adexchange(X):\n",
    "    X = pd.concat([X,pd.get_dummies(X.adexchange,prefix='adexchange')],axis=1)\n",
    "    X = X.drop('adexchange',axis=1)\n",
    "    return X\n",
    "\n",
    "# 7. Encode slotwidth\n",
    "def enc_slotwidth(X):\n",
    "    X = pd.concat([X,pd.get_dummies(X.slotwidth,prefix='slotwidth')],axis=1)\n",
    "    X = X.drop('slotwidth',axis=1)\n",
    "    return X\n",
    "\n",
    "# 8. Encode slotheight\n",
    "def enc_slotheight(X):\n",
    "    X = pd.concat([X,pd.get_dummies(X.slotheight,prefix='slotheight')],axis=1)\n",
    "    X = X.drop('slotheight',axis=1)\n",
    "    return X\n",
    "\n",
    "# 9. Encode slotvisibility\n",
    "def enc_slotvisibility(X):\n",
    "    X = pd.concat([X,pd.get_dummies(X.slotvisibility,prefix='slotvisibility')],axis=1)\n",
    "    X = X.drop('slotvisibility',axis=1)\n",
    "    return X\n",
    "\n",
    "# 10. Encode slotformat\n",
    "def enc_slotformat(X):\n",
    "    X = pd.concat([X,pd.get_dummies(X.slotformat,prefix='slotformat')],axis=1)\n",
    "    X = X.drop('slotformat',axis=1)\n",
    "    return X\n",
    "\n",
    "# 11. Encode advertiser\n",
    "def enc_advertiser(X):\n",
    "    X = pd.concat([X,pd.get_dummies(X.advertiser,prefix='advertiser')],axis=1)\n",
    "    X = X.drop('advertiser',axis=1)\n",
    "    return X\n",
    "\n",
    "# 12. Encoding slotprice into buckets\n",
    "def enc_slotprice(X):\n",
    "    bins = pd.DataFrame()\n",
    "    bins['slotprice_bins'] = pd.cut(X.slotprice.values,5, labels=[1,2,3,4,5])\n",
    "\n",
    "    X = pd.concat([X,bins],axis=1)\n",
    "    X = pd.concat([X,pd.get_dummies(X.slotprice_bins,prefix='slotprice')],axis=1)\n",
    "\n",
    "    X = X.drop('slotprice',axis=1)\n",
    "    X = X.drop('slotprice_bins',axis=1)\n",
    "    bins.pop('slotprice_bins')\n",
    "    return X\n",
    "\n",
    "# 13. Encoding user tags\n",
    "def enc_usertag(X):\n",
    "    a = pd.DataFrame(X.usertag.str.split(',').tolist())\n",
    "    usertag_df = pd.DataFrame(a)\n",
    "    usertag_df2 = pd.get_dummies(usertag_df,prefix='usertag')\n",
    "    usertag_df2 = usertag_df2.groupby(usertag_df2.columns, axis=1).sum()\n",
    "    X = pd.concat([X, usertag_df2], axis=1)\n",
    "    X = X.drop('usertag', axis=1)\n",
    "    return X\n",
    "\n",
    "def encode_labels(X):\n",
    "    X = enc_day(X)\n",
    "    X = enc_hrs(X)\n",
    "    X = enc_OS_browser(X)\n",
    "    X = enc_region(X)\n",
    "    X = enc_adexchange(X)\n",
    "    X = enc_slotwidth(X)\n",
    "    X = enc_slotheight(X)\n",
    "    X = enc_slotvisibility(X)\n",
    "    X = enc_slotformat(X)\n",
    "    X = enc_advertiser(X)\n",
    "    X = enc_slotprice(X)\n",
    "    return X"
   ]
  },
  {
   "cell_type": "code",
   "execution_count": null,
   "metadata": {
    "collapsed": true
   },
   "outputs": [],
   "source": [
    "#X_train = encode_labels(X_train)\n",
    "X_train = enc_usertag(X_train)"
   ]
  },
  {
   "cell_type": "code",
   "execution_count": null,
   "metadata": {
    "collapsed": false
   },
   "outputs": [],
   "source": [
    "X_val = enc_usertag(X_val)\n",
    "X_val = encode_labels(X_val)"
   ]
  },
  {
   "cell_type": "code",
   "execution_count": null,
   "metadata": {
    "collapsed": true
   },
   "outputs": [],
   "source": [
    "if False:\n",
    "    C_s = np.logspace(-10, 1, 11)\n",
    "    scores = list()\n",
    "    scores_std = list()\n",
    "    lr = LogisticRegression(class_weight='balanced')\n",
    "\n",
    "    for C in C_s:\n",
    "        lr.C = C\n",
    "        this_scores = cross_val_score(lr, X_train, y_train, cv=4, scoring='roc_auc')\n",
    "        scores.append(np.mean(this_scores))\n",
    "        scores_std.append(np.std(this_scores))\n",
    "\n",
    "    lr_results = pd.DataFrame({'score':scores, 'C':C_s}) \n",
    "    lr_results"
   ]
  },
  {
   "cell_type": "code",
   "execution_count": null,
   "metadata": {
    "collapsed": true
   },
   "outputs": [],
   "source": [
    "clf_l2_LR = LogisticRegression(class_weight='balanced')\n",
    "y_pred = clf_l2_LR.fit(X_train_1, y_train).predict(X_val)"
   ]
  },
  {
   "cell_type": "code",
   "execution_count": null,
   "metadata": {
    "collapsed": true
   },
   "outputs": [],
   "source": [
    "predprobs = clf_l2_LR.predict_proba(X_val)\n",
    "pCTR = pd.DataFrame(predprobs)"
   ]
  },
  {
   "cell_type": "code",
   "execution_count": null,
   "metadata": {
    "collapsed": true
   },
   "outputs": [],
   "source": [
    "pred =[]\n",
    "a = len(train) / 2 * np.bincount(train.click)\n",
    "w = a[1] / a[0]\n",
    "\n",
    "for p in pCTR[1]:\n",
    "    pred.append( p / (p + ((1-p)/w)))"
   ]
  },
  {
   "cell_type": "code",
   "execution_count": null,
   "metadata": {
    "collapsed": true
   },
   "outputs": [],
   "source": [
    "fpr, tpr, thresholds = metrics.roc_curve([click for click in validation.click], pred)\n",
    "print('AUC accuracy:',metrics.auc(fpr, tpr))"
   ]
  },
  {
   "cell_type": "markdown",
   "metadata": {
    "collapsed": true
   },
   "source": [
    "## Linear bidding strategy"
   ]
  },
  {
   "cell_type": "code",
   "execution_count": null,
   "metadata": {
    "collapsed": true
   },
   "outputs": [],
   "source": [
    "df_int2= pd.DataFrame()\n",
    "df_int2= df_validation\n",
    "df_int2['pCTR']= NB_model_allpCTR_v\n",
    "df_int2['pCTR_norm'] = df_int2['pCTR'].values/ df_int2['pCTR'].mean()"
   ]
  },
  {
   "cell_type": "code",
   "execution_count": null,
   "metadata": {
    "collapsed": true
   },
   "outputs": [],
   "source": [
    "def linear_bid(baseline_bid, imp_pCTR_norm):\n",
    "    lin_bid = baseline_bid* imp_pCTR_norm\n",
    "    return lin_bid\n",
    "\n",
    "def nlinear_bid(baseline_bid, imp_pCTR_norm):\n",
    "    lin_bid = baseline_bid* (imp_pCTR_norm**2)\n",
    "    return nlin_bid\n",
    "\n",
    "def bid_run(df_data_pCTR, baseline_bid, bid_strat= linear_bid, test_run= False, save_run= False):\n",
    "    \n",
    "    if test_run== True:    \n",
    "        df_data_pCTR['imp_bid']= linear_bid(baseline_bid, df_data_pCTR['pCTR_norm'].values)\n",
    "        \n",
    "        df_output = pd.DataFrame()\n",
    "        df_output[['bidid', 'bidprice']]= df_data_pCTR[['bidid', 'imp_bid']]\n",
    "        \n",
    "        if save_run== True:\n",
    "            output_directory= 'Submission/Val/'\n",
    "            output_filename= 'Group_XX.csv'\n",
    "            df_output.to_csv(output_directory + output_filename)\n",
    "            print('Submission file saved: ', os.getcwd(), output_directory, output_filename)\n",
    "        if save_run== False:\n",
    "            print('Submission file not saved')\n",
    "        \n",
    "        return df_data_pCTR\n",
    "    \n",
    "    if test_run== False:\n",
    "        df_data_pCTR['imp_bid']= linear_bid(baseline_bid, df_data_pCTR['pCTR_norm'].values)\n",
    "        df_data_pCTR['imp_h_bid']= np.where(df_data_pCTR['imp_bid'] >= df_data_pCTR['bidprice'], 'Y', 'N')\n",
    "        \n",
    "        total_cost = 0\n",
    "        budget = 25000000\n",
    "        \n",
    "        df_data_pCTR['imp_win']= 'TBC'\n",
    "        \n",
    "        for index, row in df_data_pCTR.iterrows():\n",
    "            if row['imp_h_bid']== 'Y':\n",
    "                if (total_cost+ row['bidprice']) < budget:\n",
    "                    df_data_pCTR.set_value(index,'imp_win', 'Y')\n",
    "                    total_cost+= row['bidprice']\n",
    "                else:\n",
    "                    df_data_pCTR.set_value(index,'imp_win', 'Insuf/b')\n",
    "            else:\n",
    "                df_data_pCTR.set_value(index,'imp_win', 'N')\n",
    "        \n",
    "        return df_data_pCTR"
   ]
  },
  {
   "cell_type": "code",
   "execution_count": null,
   "metadata": {
    "collapsed": false
   },
   "outputs": [],
   "source": [
    "df_data_pCTR_bid = pd.DataFrame()\n",
    "df_data_pCTR_bid = bid_run(df_int2, 1000, test_run= False)"
   ]
  },
  {
   "cell_type": "code",
   "execution_count": null,
   "metadata": {
    "collapsed": false
   },
   "outputs": [],
   "source": [
    "budget= 25000000\n",
    "\n",
    "def CTR_evaluation(df_data_pCTR_bid):\n",
    "    clicks = df_data_pCTR_bid['click'][(df_data_pCTR_bid['click'] == 1)].count()\n",
    "    total = df_data_pCTR_bid['click'][(df_data_pCTR_bid['click'] != 10)].count()\n",
    "    total_CTR = clicks/ total\n",
    "    print('Sample average', total_CTR)\n",
    "    \n",
    "    win = df_data_pCTR_bid['click'][(df_data_pCTR_bid['imp_h_bid'] == 'Y')].count()\n",
    "    win_click = df_data_pCTR_bid['click'][(df_data_pCTR_bid['imp_h_bid'] == 'Y') & (df_data_pCTR_bid.click == 1)].count()\n",
    "    won_CTR = win_click/ win\n",
    "    print('Win bids', won_CTR)\n",
    "    \n",
    "    loss = df_data_pCTR_bid['click'][(df_data_pCTR_bid['imp_h_bid'] == 'N')].count()\n",
    "    loss_click = df_data_pCTR_bid['click'][(df_data_pCTR_bid['imp_h_bid'] == 'N') & (df_data_pCTR_bid.click == 1)].count()\n",
    "    loss_CTR = loss_click/ loss\n",
    "    print('Not won bids', loss_CTR)\n",
    "    print('Won: Average ratio', won_CTR/ total_CTR)\n",
    "    \n",
    "    print('KPIs---')\n",
    "    print('Number of clicks bid (NCB)', win_click)\n",
    "    print('Total spend', df_data_pCTR_bid['bidprice'][(df_data_pCTR_bid['imp_h_bid'] == 'Y')].sum())\n",
    "    print('Total spend (% budget)', (df_data_pCTR_bid['bidprice'][(df_data_pCTR_bid['imp_h_bid'] == 'Y')].sum()/ budget))\n",
    "    print('Average CPM (Cost Per Mille)', '???')\n",
    "    print('Average CPC (Cost Per Click)', (df_data_pCTR_bid['bidprice'][(df_data_pCTR_bid['imp_h_bid'] == 'Y')].sum())/ win_click)\n",
    "    \n",
    "CTR_evaluation(df_data_pCTR_bid)"
   ]
  },
  {
   "cell_type": "code",
   "execution_count": null,
   "metadata": {
    "collapsed": true
   },
   "outputs": [],
   "source": [
    "# Find other evaluation metric\n",
    "# Optimise for baseline_bid\n",
    "# Optimise for other pCRT"
   ]
  }
 ],
 "metadata": {
  "anaconda-cloud": {},
  "kernelspec": {
   "display_name": "Python [conda root]",
   "language": "python",
   "name": "conda-root-py"
  },
  "language_info": {
   "codemirror_mode": {
    "name": "ipython",
    "version": 3
   },
   "file_extension": ".py",
   "mimetype": "text/x-python",
   "name": "python",
   "nbconvert_exporter": "python",
   "pygments_lexer": "ipython3",
   "version": "3.5.2"
  }
 },
 "nbformat": 4,
 "nbformat_minor": 1
}
