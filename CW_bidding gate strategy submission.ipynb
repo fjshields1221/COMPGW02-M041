{
 "cells": [
  {
   "cell_type": "code",
   "execution_count": 1,
   "metadata": {
    "collapsed": true
   },
   "outputs": [],
   "source": [
    "import math\n",
    "import numpy as np\n",
    "import os\n",
    "import pandas as pd\n",
    "import matplotlib.pyplot as plt\n",
    "import collections as col\n",
    "import re\n",
    "import random\n",
    "import sklearn\n",
    "from sklearn.preprocessing import OneHotEncoder\n",
    "from sklearn.preprocessing import LabelEncoder\n",
    "from sklearn.naive_bayes import GaussianNB\n",
    "from sklearn.naive_bayes import MultinomialNB\n",
    "from sklearn.naive_bayes import BernoulliNB\n",
    "#from sklearn.svm import LinearSVC\n",
    "from sklearn import linear_model\n",
    "from sklearn import metrics\n",
    "from sklearn.ensemble import AdaBoostClassifier\n",
    "#from sklearn.model_selection import KFold, cross_val_score\n",
    "from sklearn.metrics import auc,roc_curve"
   ]
  },
  {
   "cell_type": "code",
   "execution_count": 2,
   "metadata": {
    "collapsed": true
   },
   "outputs": [],
   "source": [
    "def load_data(train='Yes', test='No', validation='No'):\n",
    "\t\"\"\"Loads and returns datasets as required\n",
    "\t   Return empty lst for if 'No'\n",
    "\t\"\"\"\n",
    "\tif train=='Yes':\n",
    "\t\tdf_train = pd.read_csv('dataset/train.csv', sep=',')\n",
    "\telse:\n",
    "\t\tdf_train = []\n",
    "\n",
    "\tif test=='Yes':\n",
    "\t\tdf_test = pd.read_csv('dataset/test.csv', sep=',')\n",
    "\telse:\n",
    "\t\tdf_test = []\n",
    "\n",
    "\tif validation=='Yes':\n",
    "\t\tdf_validation = pd.read_csv('dataset/validation.csv', sep=',')\n",
    "\telse:\n",
    "\t\tdf_validation = []\n",
    "\t\n",
    "\tprint('Data loaded', len(df_train), len(df_test), len(df_validation))\n",
    "\treturn df_train, df_test, df_validation"
   ]
  },
  {
   "cell_type": "code",
   "execution_count": 107,
   "metadata": {
    "collapsed": false
   },
   "outputs": [
    {
     "name": "stdout",
     "output_type": "stream",
     "text": [
      "Data loaded 0 299749 0\n"
     ]
    }
   ],
   "source": [
    "df_train, df_test, df_validation= load_data('No', 'Yes', 'No')"
   ]
  },
  {
   "cell_type": "code",
   "execution_count": 95,
   "metadata": {
    "collapsed": true
   },
   "outputs": [],
   "source": [
    "average = 0.0007539649884458758"
   ]
  },
  {
   "cell_type": "code",
   "execution_count": 104,
   "metadata": {
    "collapsed": false
   },
   "outputs": [],
   "source": [
    "df_temp= pd.DataFrame()\n",
    "df_temp= pd.read_csv('pCTR/pCTR_test_82.csv')\n",
    "df_temp.columns = ['index', 'pCTR']\n",
    "\n",
    "df_model= pd.DataFrame()\n",
    "df_model = df_temp\n",
    "#df_model['pCTR'] = df_temp['pCTR_82']\n",
    "df_model['pCTR_norm'] = df_model['pCTR'].values/ average\n",
    "\n",
    "#df_model= df_model.drop(['weekday', 'hour', 'logtype', 'userid', 'useragent',\n",
    "#       'IP', 'region', 'city', 'adexchange', 'domain', 'url', 'urlid',\n",
    "#       'slotid', 'slotwidth', 'slotheight', 'slotvisibility', 'slotformat',\n",
    "#       'slotprice', 'creative', 'keypage',\n",
    "#       'advertiser', 'usertag'], axis=1)\n",
    "\n"
   ]
  },
  {
   "cell_type": "code",
   "execution_count": 108,
   "metadata": {
    "collapsed": false
   },
   "outputs": [],
   "source": [
    "df_model['bidid']= df_test['bidid']"
   ]
  },
  {
   "cell_type": "code",
   "execution_count": 80,
   "metadata": {
    "collapsed": false
   },
   "outputs": [],
   "source": [
    "def constant_bid(baseline_bid, pCTR_norm= None, c= None, lambd= None):\n",
    "    con_bid= baseline_bid\n",
    "    return con_bid\n",
    "\n",
    "def random_bid(baseline_bid, pCTR_norm= None, c= None, lambd= None):\n",
    "    ran_bid= np.random.randint(-1, baseline_bid)\n",
    "    return ran_bid\n",
    "\n",
    "def linear_bid(baseline_bid, pCTR_norm, c= None, lambd= None):\n",
    "    lin_bid= baseline_bid* (pCTR_norm)\n",
    "    return lin_bid\n",
    "\n",
    "def linear_bid_2(baseline_bid, pCTR_norm, c= None, lambd= None):\n",
    "    lin_bid= baseline_bid* (pCTR_norm** 2)\n",
    "    return lin_bid\n",
    "\n",
    "def linear_bid_3(baseline_bid, pCTR_norm, c= None, lambd= None):\n",
    "    lin_bid= baseline_bid* (pCTR_norm** 3)\n",
    "    return lin_bid\n",
    "\n",
    "def linear_alt_2(baseline_bid, pCTR_norm, c= None, lambd= None):\n",
    "    if pCTR_norm> 30:\n",
    "        lin_bid= 300\n",
    "    else:\n",
    "        lin_bid= baseline_bid* (pCTR_norm** 2)\n",
    "    return lin_bid\n",
    "\n",
    "def linear_alt_3(baseline_bid, pCTR_norm, c= None, lambd= None):\n",
    "    if pCTR_norm> 30:\n",
    "        lin_bid= 300\n",
    "    else:\n",
    "        lin_bid= baseline_bid* (pCTR_norm** 3)\n",
    "    return lin_bid\n",
    "\n",
    "def linear_alt_5(baseline_bid, pCTR_norm, c= None, lambd= None):\n",
    "    if pCTR_norm> 30:\n",
    "        lin_bid= 300\n",
    "    else:\n",
    "        lin_bid= baseline_bid* (pCTR_norm** 5)\n",
    "    return lin_bid\n",
    "\n",
    "def linear_alt_7(baseline_bid, pCTR_norm, c= None, lambd= None):\n",
    "    if pCTR_norm> 20:\n",
    "        lin_bid= 300\n",
    "    else:\n",
    "        lin_bid= baseline_bid* (pCTR_norm)\n",
    "    return lin_bid\n",
    "\n",
    "def w_bid(baseline_bid, pCTR_norm, c, lambd):\n",
    "    w_b= b_bid(baseline_bid, pCTR_norm, c, lambd)/ (b_bid(baseline_bid, pCTR_norm, c, lambd)+ c)\n",
    "    return w_b\n",
    "\n",
    "def b_bid(baseline_bid, pCTR_norm, c, lambd):\n",
    "    nlin_bid= (np.sqrt(((c/ lambd)* pCTR_norm)+ (c**2))- c)/ (\\\n",
    "              (np.sqrt(((c/ lambd)* pCTR_norm)+ (c**2))- c)+ c)* baseline_bid\n",
    "    return nlin_bid"
   ]
  },
  {
   "cell_type": "code",
   "execution_count": 184,
   "metadata": {
    "collapsed": false
   },
   "outputs": [],
   "source": [
    "def run_model(df_model, baseline_bid, bid_strat, c= 20, lambd= 0.0001, test_run= False, save_run= True):\n",
    "    \n",
    "    if test_run== False:\n",
    "        win_count= 0\n",
    "        win_click_count= 0\n",
    "        loss_count= 0\n",
    "        loss_click_count= 0\n",
    "        total_cost= 0\n",
    "        budget= 250000\n",
    "        loss_imp= {}\n",
    "        win_imp= {}\n",
    "\n",
    "        for index, row in df_model.iterrows():\n",
    "            if row['payprice']<= bid_strat(baseline_bid, row['pCTR_norm'], c, lambd):\n",
    "                win_count+= 1\n",
    "                if row['click']== 1:\n",
    "                    win_click_count+= 1\n",
    "                    win_imp[index]= (row['pCTR_norm'], row['payprice'])\n",
    "\n",
    "                total_cost+= row['payprice']\n",
    "                if total_cost> budget:\n",
    "                    break\n",
    "\n",
    "            else:\n",
    "                loss_count+= 1\n",
    "                if row['click']== 1:\n",
    "                    loss_click_count+= 1\n",
    "\n",
    "                    loss_imp[index]= (row['pCTR_norm'], row['payprice'])\n",
    "\n",
    "        try:\n",
    "            CTR= (win_click_count/ win_count)\n",
    "        except:\n",
    "            CTR= 0\n",
    "            \n",
    "        return [bid_strat.__name__, baseline_bid, win_count, win_click_count, loss_count, loss_click_count, CTR, total_cost], \\\n",
    "loss_imp, win_imp\n",
    "\n",
    "    if test_run== True:\n",
    "        \n",
    "        lst_bid= []\n",
    "\n",
    "        for index, row in df_model.iterrows():\n",
    "            lst_bid.append(linear_alt_3(baseline_bid, row['pCTR_norm'], 0, 0))\n",
    "\n",
    "        df_model['bid']= lst_bid\n",
    "        \n",
    "        df_output = pd.DataFrame()\n",
    "        df_output[['bidid', 'bidprice']]= df_model[['bidid', 'bid']]\n",
    "\n",
    "        if save_run== True:\n",
    "            output_directory= 'Submission/Val/'\n",
    "            output_filename= 'Group_22.csv'\n",
    "            df_output.to_csv((output_directory + output_filename), index= False)\n",
    "            print('Submission file saved: ', os.getcwd(), output_directory, output_filename)\n",
    "        if save_run== False:\n",
    "            print('Submission file not saved')\n",
    "        \n",
    "        return df_output"
   ]
  },
  {
   "cell_type": "code",
   "execution_count": 183,
   "metadata": {
    "collapsed": false
   },
   "outputs": [
    {
     "name": "stdout",
     "output_type": "stream",
     "text": [
      "Submission file saved:  /Users/jamesshields/MSc-Data-Science/WE Submission/Val/ Group_XX.csv\n"
     ]
    }
   ],
   "source": [
    "df_output = run_model(df_model, 0, linear_alt_3, c= 20, lambd= 0.0001, test_run=True, save_run=True)"
   ]
  },
  {
   "cell_type": "code",
   "execution_count": 92,
   "metadata": {
    "collapsed": false
   },
   "outputs": [],
   "source": [
    "try:\n",
    "    df_results\n",
    "except:\n",
    "    df_results= pd.DataFrame()\n",
    "\n",
    "for i in range(1):\n",
    "    results, loss_imp, win_imp= run_model(df_validation, i, linear_alt_3)\n",
    "    if len(df_results)== 0:\n",
    "        df_results = pd.DataFrame([results], columns=('bid_strat', 'baseline_bid', 'win_count', 'win_click_count', 'loss_count', 'loss_click_count', 'CTR', 'total_cost'))\n",
    "    else:\n",
    "        df_temp = pd.DataFrame()\n",
    "        df_temp = pd.DataFrame([results], columns=('bid_strat', 'baseline_bid', 'win_count', 'win_click_count', 'loss_count', 'loss_click_count', 'CTR', 'total_cost'))\n",
    "        df_results= df_results.append(df_temp)"
   ]
  },
  {
   "cell_type": "code",
   "execution_count": 94,
   "metadata": {
    "collapsed": false
   },
   "outputs": [
    {
     "data": {
      "text/html": [
       "<div>\n",
       "<table border=\"1\" class=\"dataframe\">\n",
       "  <thead>\n",
       "    <tr style=\"text-align: right;\">\n",
       "      <th></th>\n",
       "      <th>bid_strat</th>\n",
       "      <th>baseline_bid</th>\n",
       "      <th>win_count</th>\n",
       "      <th>win_click_count</th>\n",
       "      <th>loss_count</th>\n",
       "      <th>loss_click_count</th>\n",
       "      <th>CTR</th>\n",
       "      <th>total_cost</th>\n",
       "    </tr>\n",
       "  </thead>\n",
       "  <tbody>\n",
       "    <tr>\n",
       "      <th>0</th>\n",
       "      <td>linear_alt_3</td>\n",
       "      <td>0</td>\n",
       "      <td>1179</td>\n",
       "      <td>26</td>\n",
       "      <td>298570</td>\n",
       "      <td>200</td>\n",
       "      <td>0.022053</td>\n",
       "      <td>115470</td>\n",
       "    </tr>\n",
       "    <tr>\n",
       "      <th>0</th>\n",
       "      <td>linear_alt_3</td>\n",
       "      <td>1</td>\n",
       "      <td>3591</td>\n",
       "      <td>33</td>\n",
       "      <td>75528</td>\n",
       "      <td>37</td>\n",
       "      <td>0.009190</td>\n",
       "      <td>250014</td>\n",
       "    </tr>\n",
       "    <tr>\n",
       "      <th>0</th>\n",
       "      <td>linear_alt_3</td>\n",
       "      <td>2</td>\n",
       "      <td>3529</td>\n",
       "      <td>28</td>\n",
       "      <td>59334</td>\n",
       "      <td>30</td>\n",
       "      <td>0.007934</td>\n",
       "      <td>250081</td>\n",
       "    </tr>\n",
       "    <tr>\n",
       "      <th>0</th>\n",
       "      <td>linear_alt_3</td>\n",
       "      <td>0</td>\n",
       "      <td>1179</td>\n",
       "      <td>26</td>\n",
       "      <td>298570</td>\n",
       "      <td>200</td>\n",
       "      <td>0.022053</td>\n",
       "      <td>115470</td>\n",
       "    </tr>\n",
       "    <tr>\n",
       "      <th>0</th>\n",
       "      <td>linear_alt_3</td>\n",
       "      <td>0</td>\n",
       "      <td>1249</td>\n",
       "      <td>26</td>\n",
       "      <td>298500</td>\n",
       "      <td>200</td>\n",
       "      <td>0.020817</td>\n",
       "      <td>115470</td>\n",
       "    </tr>\n",
       "  </tbody>\n",
       "</table>\n",
       "</div>"
      ],
      "text/plain": [
       "      bid_strat  baseline_bid  win_count  win_click_count  loss_count  \\\n",
       "0  linear_alt_3             0       1179               26      298570   \n",
       "0  linear_alt_3             1       3591               33       75528   \n",
       "0  linear_alt_3             2       3529               28       59334   \n",
       "0  linear_alt_3             0       1179               26      298570   \n",
       "0  linear_alt_3             0       1249               26      298500   \n",
       "\n",
       "   loss_click_count       CTR  total_cost  \n",
       "0               200  0.022053      115470  \n",
       "0                37  0.009190      250014  \n",
       "0                30  0.007934      250081  \n",
       "0               200  0.022053      115470  \n",
       "0               200  0.020817      115470  "
      ]
     },
     "execution_count": 94,
     "metadata": {},
     "output_type": "execute_result"
    }
   ],
   "source": [
    "df_results[df_results['bid_strat']== 'linear_alt_3']"
   ]
  },
  {
   "cell_type": "code",
   "execution_count": null,
   "metadata": {
    "collapsed": true
   },
   "outputs": [],
   "source": []
  },
  {
   "cell_type": "code",
   "execution_count": 130,
   "metadata": {
    "collapsed": false
   },
   "outputs": [
    {
     "ename": "ValueError",
     "evalue": "The truth value of an array with more than one element is ambiguous. Use a.any() or a.all()",
     "output_type": "error",
     "traceback": [
      "\u001b[0;31m---------------------------------------------------------------------------\u001b[0m",
      "\u001b[0;31mValueError\u001b[0m                                Traceback (most recent call last)",
      "\u001b[0;32m<ipython-input-130-a4cb655e5f0f>\u001b[0m in \u001b[0;36m<module>\u001b[0;34m()\u001b[0m\n\u001b[0;32m----> 1\u001b[0;31m \u001b[0mlinear_alt_3\u001b[0m\u001b[0;34m(\u001b[0m\u001b[0;36m0\u001b[0m\u001b[0;34m,\u001b[0m \u001b[0mdf_model\u001b[0m\u001b[0;34m[\u001b[0m\u001b[0;34m'pCTR_norm'\u001b[0m\u001b[0;34m]\u001b[0m\u001b[0;34m.\u001b[0m\u001b[0mvalues\u001b[0m\u001b[0;34m,\u001b[0m \u001b[0;36m0\u001b[0m\u001b[0;34m,\u001b[0m \u001b[0;36m0\u001b[0m\u001b[0;34m)\u001b[0m\u001b[0;34m\u001b[0m\u001b[0m\n\u001b[0m",
      "\u001b[0;32m<ipython-input-80-9eaaa8d6eeef>\u001b[0m in \u001b[0;36mlinear_alt_3\u001b[0;34m(baseline_bid, pCTR_norm, c, lambd)\u001b[0m\n\u001b[1;32m     27\u001b[0m \u001b[0;34m\u001b[0m\u001b[0m\n\u001b[1;32m     28\u001b[0m \u001b[0;32mdef\u001b[0m \u001b[0mlinear_alt_3\u001b[0m\u001b[0;34m(\u001b[0m\u001b[0mbaseline_bid\u001b[0m\u001b[0;34m,\u001b[0m \u001b[0mpCTR_norm\u001b[0m\u001b[0;34m,\u001b[0m \u001b[0mc\u001b[0m\u001b[0;34m=\u001b[0m \u001b[0;32mNone\u001b[0m\u001b[0;34m,\u001b[0m \u001b[0mlambd\u001b[0m\u001b[0;34m=\u001b[0m \u001b[0;32mNone\u001b[0m\u001b[0;34m)\u001b[0m\u001b[0;34m:\u001b[0m\u001b[0;34m\u001b[0m\u001b[0m\n\u001b[0;32m---> 29\u001b[0;31m     \u001b[0;32mif\u001b[0m \u001b[0mpCTR_norm\u001b[0m\u001b[0;34m>\u001b[0m \u001b[0;36m30\u001b[0m\u001b[0;34m:\u001b[0m\u001b[0;34m\u001b[0m\u001b[0m\n\u001b[0m\u001b[1;32m     30\u001b[0m         \u001b[0mlin_bid\u001b[0m\u001b[0;34m=\u001b[0m \u001b[0;36m300\u001b[0m\u001b[0;34m\u001b[0m\u001b[0m\n\u001b[1;32m     31\u001b[0m     \u001b[0;32melse\u001b[0m\u001b[0;34m:\u001b[0m\u001b[0;34m\u001b[0m\u001b[0m\n",
      "\u001b[0;31mValueError\u001b[0m: The truth value of an array with more than one element is ambiguous. Use a.any() or a.all()"
     ]
    }
   ],
   "source": [
    "linear_alt_3(0, df_model['pCTR_norm'].values, 0, 0)"
   ]
  },
  {
   "cell_type": "code",
   "execution_count": 3,
   "metadata": {
    "collapsed": true
   },
   "outputs": [],
   "source": [
    "import pandas as pd\n",
    "\n",
    "def load_data():\n",
    "\tprint('Importing data')\n",
    "\tdf_x = pd.DataFrame()\n",
    "\tdf_x = df_x.from_csv(\"X_train_features2.csv\")\n",
    "\tdf_x.drop('usertag', axis=1, inplace=True)\n",
    "\tx_array = df_x.as_matrix()\n",
    "\n",
    "\tdf_y = pd.DataFrame()\n",
    "\tdf_y= df_y.from_csv(\"Y_train_labels.csv\")\n",
    "\ty_array = df_y.as_matrix()\n",
    "\n",
    "\tprint('Datsa imported', x_array.shape, y_array.shape)\n",
    "\treturn x_array, y_array"
   ]
  },
  {
   "cell_type": "code",
   "execution_count": 4,
   "metadata": {
    "collapsed": false
   },
   "outputs": [
    {
     "name": "stdout",
     "output_type": "stream",
     "text": [
      "Importing data\n",
      "Datsa imported (2697738, 151) (2697738, 1)\n"
     ]
    }
   ],
   "source": [
    "x_array, y_array= load_data()"
   ]
  },
  {
   "cell_type": "code",
   "execution_count": null,
   "metadata": {
    "collapsed": true
   },
   "outputs": [],
   "source": []
  }
 ],
 "metadata": {
  "anaconda-cloud": {},
  "kernelspec": {
   "display_name": "Python [conda root]",
   "language": "python",
   "name": "conda-root-py"
  },
  "language_info": {
   "codemirror_mode": {
    "name": "ipython",
    "version": 3
   },
   "file_extension": ".py",
   "mimetype": "text/x-python",
   "name": "python",
   "nbconvert_exporter": "python",
   "pygments_lexer": "ipython3",
   "version": "3.5.2"
  }
 },
 "nbformat": 4,
 "nbformat_minor": 1
}
